{
 "cells": [
  {
   "cell_type": "markdown",
   "metadata": {},
   "source": [
    "# Flux Noise Mask Design #\n",
    "\n",
    "Still to do:  \n",
    " * simulate mutual   \n",
    " * simulate T1 limit from 100aF xy line  \n",
    "  \n",
    "Problems with mask:\n",
    " * One of the XY lines is messed up  \n",
    " * capacitances change resonator frequencies so nothing matches  \n",
    "\n",
    "Transmon Selected params:  \n",
    "+    w = 34, l_c = 90, w_c = 150:  \n",
    "    + C_q = 75.6fF  \n",
    "    + C_g = 3.39fF  \n",
    "    + C_resToGnd = 79.1fF  \n",
    "+    d_xy = 80: C_xy = 99.5fF  \n",
    "\n",
    "Charge Sensitive Selected params:  \n",
    "+    w = 14, l_c = 90, w_c = 200:  \n",
    "    + C_q = 48.5fF  \n",
    "    + C_g = 2.94fF  \n",
    "    + C_resToGnd = 107fF  \n",
    "+    d_xy = 50: C_xy = 95.5fF  "
   ]
  },
  {
   "cell_type": "code",
   "execution_count": 94,
   "metadata": {},
   "outputs": [],
   "source": [
    "import cpwtools\n",
    "reload(cpwtools)\n",
    "inductiveCoupling = __import__(\"Transmission Lines.inductiveCoupling\")\n",
    "import numpy as np\n",
    "from scipy.constants import mu_0, epsilon_0, pi, hbar, e, c\n",
    "from scipy.constants import physical_constants\n",
    "from scipy.optimize import fsolve, root"
   ]
  },
  {
   "cell_type": "markdown",
   "metadata": {},
   "source": [
    "## CPW ##\n",
    "We want to use the same cpw dimensions for resonator and feedline/purcell filter cpw's so the kinetic inductance correction is the same for everything."
   ]
  },
  {
   "cell_type": "code",
   "execution_count": 95,
   "metadata": {},
   "outputs": [
    {
     "name": "stdout",
     "output_type": "stream",
     "text": [
      "Cl = 0.000164468902665 pF/um\n",
      "Ll = 0.000432649750216 nH/um\n",
      "vph = 1.1854681054e8 m/s\n",
      "z0 = 51.2892479688 Ohms\n"
     ]
    }
   ],
   "source": [
    "cpw = cpwtools.CPW(material='al', w=10., s=7.)\n",
    "print cpw"
   ]
  },
  {
   "cell_type": "markdown",
   "metadata": {},
   "source": [
    "## $\\lambda/4$ readout resonators ##\n",
    "IMPAs from Google will be good in the 4-6GHz range.  We will aim for resonators near 6GHz, but have a spread from 5-6GHz on the mask.  They should be spread every 30MHz or so."
   ]
  },
  {
   "cell_type": "code",
   "execution_count": 96,
   "metadata": {},
   "outputs": [
    {
     "name": "stdout",
     "output_type": "stream",
     "text": [
      "5.0GHz: l = 5927.34um  C_r = 487.43um  extension = -420.97um\n",
      "5.2GHz: l = 5699.37um  C_r = 468.68um  extension = -306.98um\n",
      "5.4GHz: l = 5488.28um  C_r = 451.33um  extension = -201.44um\n",
      "5.6GHz: l = 5292.27um  C_r = 435.21um  extension = -103.44um\n",
      "5.8GHz: l = 5109.78um  C_r = 420.20um  extension = -12.19um\n",
      "6.0GHz: l = 4939.45um  C_r = 406.19um  extension = 72.97um\n",
      "\n",
      "The frequency is brought down by the capacitance to ground of the coupling capacitor at the end.  Unforunately, this capacitance was not taken into account for the mask.  The highest frequency we can go is 5.353GHz\n",
      "\n",
      "charge sensitive:\n",
      "l = 4905.00um  f_l = 5.394GHz  C_r = 403.36um  extension = 90.20um\n",
      "transmons:\n",
      "l = 4906.74um  f_l = 5.533GHz  C_r = 403.50fF  extension = 89.33um\n",
      "l = 4939.45um  f_l = 5.499GHz  C_r = 406.19fF  extension = 72.97um\n",
      "l = 4972.60um  f_l = 5.465GHz  C_r = 408.92fF  extension = 56.40um\n",
      "l = 5006.20um  f_l = 5.431GHz  C_r = 411.68fF  extension = 39.60um\n"
     ]
    }
   ],
   "source": [
    "L4 = cpwtools.QuarterLResonator(cpw,5920)\n",
    "l_curve = 2*pi*50/4\n",
    "coupling_length = 300\n",
    "tot_length = l_curve*(1+1+2+2+2+2) + 2*1000 + 1150 + 350 + 500 + coupling_length # this coupling length ranges from 45-150 depending on desired Qc.  \n",
    "                                                                                 # Plan for 45, can always trombone down\n",
    "for f in [5,5.2,5.4,5.6,5.8,6]:\n",
    "    length = L4.setLengthFromFreq(f*1e9)*1e6\n",
    "    print\"{:.1f}GHz: l = {:.2f}um  C_r = {:.2f}um  extension = {:.2f}um\".format(\n",
    "        f, length, 1e15*L4.C(), (tot_length-length)/2)\n",
    "\n",
    "L4.setLengthFromFreq(5.93*1e9)\n",
    "L4.addCapacitiveCoupling('g',79.1e-15)\n",
    "print\n",
    "L4.l = tot_length*1e-6\n",
    "print (\"The frequency is brought down by the capacitance to ground of the coupling capacitor at the end.  \"\n",
    "       \"Unforunately, this capacitance was not taken into account for the mask.  The highest frequency we can go is {:.3f}GHz\".format(L4.fl()/1e9))\n",
    "\n",
    "print\n",
    "# For charge sensitive (qubit 4)\n",
    "L4.l = 4905e-6\n",
    "L4.addCapacitiveCoupling('g',107e-15)\n",
    "print 'charge sensitive:'\n",
    "print\"l = {:.2f}um  f_l = {:.3f}GHz  C_r = {:.2f}um  extension = {:.2f}um\".format(\n",
    "    L4.l*1e6, L4.fl()/1e9, 1e15*L4.C(), (tot_length-L4.l*1e6)/2)\n",
    "\n",
    "# For 3 transmons:\n",
    "print 'transmons:'\n",
    "L4.addCapacitiveCoupling('g',79.1e-15)\n",
    "f_start = 6.04\n",
    "for f in [f_start,f_start-1*0.04,f_start-2*0.04,f_start-3*0.04]:\n",
    "    length = L4.setLengthFromFreq(f*1e9)*1e6\n",
    "    print\"l = {:.2f}um  f_l = {:.3f}GHz  C_r = {:.2f}fF  extension = {:.2f}um\".format(\n",
    "        length, L4.fl()/1e9, 1e15*L4.C(), (tot_length-length)/2)\n",
    "\n",
    "C_r = L4.C()"
   ]
  },
  {
   "cell_type": "markdown",
   "metadata": {},
   "source": [
    "## Qubit parameters ##\n",
    "From Ted Thorbeck's notes:  \n",
    "$E_c = \\frac{e^2}{2C}$, $E_c/\\hbar=\\alpha=\\text{anharmonicity}$  \n",
    "$E_J = \\frac{I_o \\Phi_0}{2 \\pi} $  \n",
    "$\\omega_q = \\sqrt{8E_JE_c}/\\hbar $  \n",
    "$g = \\frac{1}{2} \\frac{C_g}{\\sqrt{(C_q+C_g)(C_r+C_g)}}\\sqrt{\\omega_r\\omega_q}$  \n",
    "  \n",
    "We want g in the range 25-200MHz for an ideal anharmonicity $\\alpha$=250MHz  "
   ]
  },
  {
   "cell_type": "code",
   "execution_count": 97,
   "metadata": {},
   "outputs": [],
   "source": [
    "omega_r = 2*pi*5.49e9 # readout resonator (average) angular frequency\n",
    "omega_q = 2*pi*4.625e9 # qubit angular frequency\n",
    "\n",
    "def EkdivEc(ng=[0.5], Ec=1.0/4.0, Ej=2.0, N=50):\n",
    "    # from https://github.com/thomasaref/TA_software/blob/3fea8a37d86239353dccd7a1b71dcedb41b7e64c/test_code/IDTQubitdesignpy.py#L62\n",
    "    # calculates transmon energy level with N states (more states is better approximation)\n",
    "    # effectively solves the mathieu equation but for fractional inputs (which doesn't work in scipy.special.mathieu_a\n",
    "    d1=[]\n",
    "    d2=[]\n",
    "    d3=[]\n",
    "    for a in ng:\n",
    "        NL=2*N+1\n",
    "        A=np.zeros((NL, NL))\n",
    "        for b in range(0,NL):\n",
    "            A[b, b]=4.0*Ec*(b-N-a)**2\n",
    "            if b!=NL-1:\n",
    "                A[b, b+1]= -Ej/2.0\n",
    "            if b!=0:\n",
    "                A[b, b-1]= -Ej/2.0\n",
    "        w,v=np.linalg.eig(A)\n",
    "        d1.append(min(w))#/h*1e-9)\n",
    "        w=np.delete(w, w.argmin())\n",
    "        d2.append(min(w))#/h*1e-9)\n",
    "        w=np.delete(w, w.argmin())\n",
    "        d3.append(min(w))#/h*1e-9)\n",
    "    return np.array(d1), np.array(d2), np.array(d3)\n",
    "\n",
    "class Qubit(object):\n",
    "    name = None\n",
    "    omega_q = None\n",
    "    omega_r = None\n",
    "    C_r = None\n",
    "    C_g = None\n",
    "    C_q = None\n",
    "    \n",
    "    def __init__(self, name=None):\n",
    "        if name:\n",
    "            self.name = name\n",
    "    \n",
    "    def E_c(self, c=None):\n",
    "        if c is None:\n",
    "            c = self.C_q + self.C_g\n",
    "        return e**2/2/c\n",
    "\n",
    "    def cap_g(self, g):\n",
    "        return -((self.C_q+self.C_r)*(2*g)**2 + np.sqrt((self.C_q-self.C_r)**2*(2*g)**4 + 4*self.C_q*self.C_r*(2*g)**2*self.omega_q*self.omega_r)) / (2*((2*g)**2-self.omega_q*self.omega_r))\n",
    "\n",
    "    def g(self):\n",
    "        return 1./2*self.C_g/np.sqrt((self.C_q+self.C_g)*(self.C_r+self.C_g))*np.sqrt(self.omega_r*self.omega_q)\n",
    "    \n",
    "    def Chi_0(self):\n",
    "        g = self.g()\n",
    "        return -g**2/(self.omega_q-self.omega_r)\n",
    "    \n",
    "    def Chi(self):\n",
    "        alpha = self.alpha(self.E_c(), self.E_j())\n",
    "        Delta = self.omega_q-self.omega_r\n",
    "        return -self.g()**2/Delta*(-alpha)/(Delta+alpha)\n",
    "    \n",
    "    def Q_r(self):\n",
    "        return -self.omega_r/(2*self.Chi())\n",
    "    \n",
    "    def E01(self, E_c, E_j, ng=[0.0]):\n",
    "        d1, d2, d3 = EkdivEc(ng, E_c, E_j)\n",
    "        return d2[0]-d1[0]\n",
    "    \n",
    "    def alpha(self, E_c, E_j, ng=[0.0]):\n",
    "        d1, d2, d3 = EkdivEc(ng, E_c, E_j)\n",
    "        E12 = d3[0]-d2[0]\n",
    "        E01 = d2[0]-d1[0]\n",
    "        return (E12 - E01)/hbar\n",
    "    \n",
    "    def E_j(self):\n",
    "        f = lambda ej: self.E01(self.E_c(), ej) - self.omega_q*hbar\n",
    "        return fsolve(f, 2*pi*15e9*hbar)[0]\n",
    "    \n",
    "    def I_c(self):\n",
    "        return 2*pi*self.E_j()/(physical_constants['mag. flux quantum'][0])\n",
    "        \n",
    "    \n",
    "qb = Qubit()\n",
    "transmon = Qubit('              Transmon')\n",
    "charge_sensitive_qubit = Qubit('Charge Sensitive Qubit')\n",
    "qubits = [transmon, charge_sensitive_qubit]\n",
    "for q in qubits+[qb]:\n",
    "    q.C_r = C_r     # qubit-resonator coupling in Hz\n",
    "    q.omega_r = omega_r\n",
    "    q.omega_q = omega_q\n",
    "g = 2*pi*50e6     # qubit-resonator coupling in Hz"
   ]
  },
  {
   "cell_type": "code",
   "execution_count": 98,
   "metadata": {},
   "outputs": [
    {
     "name": "stdout",
     "output_type": "stream",
     "text": [
      "Range of C_q on the mask:\n",
      "C_q = 30fF: E_c = 645.67MHz\n",
      "C_q = 95fF: E_c = 203.90MHz\n",
      "\n",
      "Ideal:\n",
      "Transmon:          E_c = 250MHz: C_sigma = C_q + C_g = 77.48fF\n",
      "Charge Sensitive:  E_c = 385MHz: C_sigma = C_q + C_g = 50.31fF\n"
     ]
    }
   ],
   "source": [
    "print('Range of C_q on the mask:')\n",
    "print \"C_q = 30fF: E_c = {:.2f}MHz\".format( qb.E_c(30e6)/(2*pi*hbar)*1e15 )\n",
    "print \"C_q = 95fF: E_c = {:.2f}MHz\".format( qb.E_c(95e6)/(2*pi*hbar)*1e15 )\n",
    "print\n",
    "print('Ideal:')\n",
    "print \"Transmon:          E_c = 250MHz: C_sigma = C_q + C_g = {:.2f}fF\".format( e**2/2/250e6/(2*pi*hbar)*1e15 )\n",
    "print \"Charge Sensitive:  E_c = 385MHz: C_sigma = C_q + C_g = {:.2f}fF\".format( e**2/2/385e6/(2*pi*hbar)*1e15 )"
   ]
  },
  {
   "cell_type": "code",
   "execution_count": 99,
   "metadata": {},
   "outputs": [
    {
     "name": "stdout",
     "output_type": "stream",
     "text": [
      "              Transmon:  C_q = 75.60fF  E_c = -245.25MHz  E_j = 12.16GHz  alpha = -282.07MHz  g = 50.00MHz  C_g = 3.60fF\n",
      "Charge Sensitive Qubit:  C_q = 48.90fF  E_c = -376.05MHz  E_j = 8.43GHz  alpha = -514.23MHz  g = 50.00MHz  C_g = 2.91fF\n"
     ]
    }
   ],
   "source": [
    "#We choose caps from the mask:\n",
    "transmon.C_q = 75.6e-15\n",
    "charge_sensitive_qubit.C_q = 48.9e-15\n",
    "transmon.C_g = 3.38e-15\n",
    "charge_sensitive_qubit.C_g = 2.61e-15\n",
    "\n",
    "for q in qubits:\n",
    "    print \"{}:  C_q = {:.2f}fF  E_c = {:.2f}MHz  E_j = {:.2f}GHz  alpha = {:.2f}MHz  g = {:.2f}MHz  C_g = {:.2f}fF\".format(\n",
    "        q.name, 1e15*q.C_q, -q.E_c()/(2*pi*hbar)/1e6, q.E_j()/2/pi/hbar/1e9, q.alpha(q.E_c(),q.E_j())/(2*pi)/1e6, g/2/pi/1e6, 1e15*q.cap_g(g))"
   ]
  },
  {
   "cell_type": "code",
   "execution_count": 102,
   "metadata": {},
   "outputs": [
    {
     "name": "stdout",
     "output_type": "stream",
     "text": [
      "              Transmon:  C_g = 3.38fF  g = 47.03MHz  Chi_0/2pi = 2.56MHz  Chi/2pi = -0.63MHz  Q_r = 4365  1/kappa = 126.53ns  I_c=24.48nA  n_crit=84.6\n",
      "Charge Sensitive Qubit:  C_g = 2.61fF  g = 45.01MHz  Chi_0/2pi = 2.34MHz  Chi/2pi = -0.87MHz  Q_r = 3143  1/kappa = 91.11ns  I_c=16.97nA  n_crit=92.3\n"
     ]
    }
   ],
   "source": [
    "# We choose the closest capacitance from the mask\n",
    "transmon.C_g = 3.38e-15\n",
    "charge_sensitive_qubit.C_g = 2.61e-15\n",
    "\n",
    "for q in qubits:\n",
    "    print \"{}:  C_g = {:.2f}fF  g = {:.2f}MHz  Chi_0/2pi = {:.2f}MHz  Chi/2pi = {:.2f}MHz  Q_r = {:.0f}  1/kappa = {:.2f}ns  I_c={:.2f}nA  n_crit={:.1f}\".format(\n",
    "        q.name, 1e15*q.cap_g(q.g()), q.g()/2/pi/1e6, 1e-6*q.Chi_0()/2/pi, 1e-6*q.Chi()/2/pi, q.Q_r(), q.Q_r()/omega_r*1e9, q.I_c()*1e9, ((omega_q-omega_r)/2/q.g())**2)"
   ]
  },
  {
   "cell_type": "code",
   "execution_count": 59,
   "metadata": {},
   "outputs": [
    {
     "name": "stdout",
     "output_type": "stream",
     "text": [
      "              Transmon: Ej/Ec = 49.582  Charge dispersion = 0.010MHz\n",
      "Charge Sensitive Qubit: Ej/Ec = 22.410  Charge dispersion = 3.671MHz\n"
     ]
    }
   ],
   "source": [
    "for q in qubits:\n",
    "    print \"{}: Ej/Ec = {:.3f}  Charge dispersion = {:.3f}MHz\".format(q.name, q.E_j()/q.E_c(), (q.E01(q.E_c(), q.E_j(), [0.0]) - q.E01(q.E_c(), q.E_j(), [0.5]))/2/pi/hbar/1e6)"
   ]
  },
  {
   "cell_type": "code",
   "execution_count": 60,
   "metadata": {},
   "outputs": [
    {
     "name": "stdout",
     "output_type": "stream",
     "text": [
      "C_q = 85.00fF  g = 25.00MHz  C_g = 1.88fF\n",
      "C_q = 85.00fF  g = 50.00MHz  C_g = 3.81fF\n",
      "C_q = 85.00fF  g = 200.00MHz  C_g = 16.55fF\n",
      "C_q = 29.00fF  g = 25.00MHz  C_g = 1.11fF\n",
      "C_q = 29.00fF  g = 50.00MHz  C_g = 2.26fF\n",
      "C_q = 29.00fF  g = 200.00MHz  C_g = 10.21fF\n",
      "C_q = 0.00fF  g = 25.00MHz  C_g = 0.04fF\n",
      "C_q = 0.00fF  g = 50.00MHz  C_g = 0.16fF\n",
      "C_q = 0.00fF  g = 200.00MHz  C_g = 2.61fF\n"
     ]
    }
   ],
   "source": [
    "# What variation in C_g should be included on mask for the C_q variation we have?\n",
    "for C_q_ in [85e-15, 29e-15, e**2/2/250e6]:\n",
    "    for g_ in [2*pi*25e6, 2*pi*50e6, 2*pi*200e6]:\n",
    "        qb.C_q = C_q_\n",
    "        print \"C_q = {:.2f}fF  g = {:.2f}MHz  C_g = {:.2f}fF\".format(\n",
    "            1e15*C_q_, g_/2/pi/1e6, 1e15*qb.cap_g(g_))"
   ]
  },
  {
   "cell_type": "markdown",
   "metadata": {},
   "source": [
    "## Feedline with and without crossovers ##"
   ]
  },
  {
   "cell_type": "code",
   "execution_count": 86,
   "metadata": {},
   "outputs": [
    {
     "name": "stdout",
     "output_type": "stream",
     "text": [
      "Cl = 0.000164468902665 pF/um\n",
      "Ll = 0.000432928941855 nH/um\n",
      "vph = 1.18508579536e8 m/s\n",
      "z0 = 51.3057939391 Ohms\n",
      "Cl = 0.000190367402031 pF/um\n",
      "Ll = 0.000344035246936 nH/um\n",
      "vph = 1.23566924918e8 m/s\n",
      "z0 = 42.5113775272 Ohms\n",
      "1e-05 7e-06 1e-07 0.00048 1.0323728890490482e-05 6.676271109509518e-06 1.0 11.8 1.5e-07\n",
      "1e-05 7e-06 1e-07 0.00048 1.0323728890490482e-05 6.676271109509518e-06 1.0 11.8 1.5e-07\n"
     ]
    }
   ],
   "source": [
    "cpw.setKineticInductanceCorrection(False)\n",
    "print cpw\n",
    "cpwx = cpwtools.CPWWithBridges(material='al', w=1e6*cpw.w, s=1e6*cpw.s, bridgeSpacing = 250, bridgeWidth = 3, t_oxide=0.16)\n",
    "cpwx.setKineticInductanceCorrection(False)\n",
    "print cpwx"
   ]
  },
  {
   "cell_type": "markdown",
   "metadata": {},
   "source": [
    "## Inductive Coupling ##\n",
    "From [1], we have the dephasing of a qubit:  \n",
    "$\\Gamma_\\phi = \\eta\\frac{4\\chi^2}{\\kappa}\\bar{n}$, where $\\eta=\\frac{\\kappa^2}{\\kappa^2+4\\chi^2}$, $\\bar{n}=\\left(\\frac{\\Delta}{2g}\\right)^2$  \n",
    "$\\Gamma_\\phi = \\frac{4\\chi^2\\kappa}{\\kappa^2+4\\chi^2}\\left(\\frac{\\Delta}{2g}\\right)^2$  \n",
    "To maximize the efficiency of readout, we want to maximize the rate of information leaving the system (into the readout chain), or equivilently, maximize dephasing.  \n",
    "$\\partial_\\kappa\\Gamma_\\phi = 0 = -\\frac{4\\chi^2(\\kappa^2-4\\chi^2)}{(\\kappa^2+4\\chi^2)^2}$ when $2\\chi=\\kappa$.  \n",
    "$2\\chi = \\kappa_r = \\omega_r/Q_r$  \n",
    "$ Q_{r,c} = \\frac{8Z_0^2}{\\pi(\\omega M)^2}$  [2]  \n",
    "We want a $Q_c$ of 3k-30k  \n",
    "  \n",
    "[1] Yan et al. The flux qubit revisited to enhance coherence and reproducibility. Nature Communications, 7, 1–9. http://doi.org/10.1038/ncomms12964  \n",
    "[2] Matt Beck's Thesis, p.39"
   ]
  },
  {
   "cell_type": "raw",
   "metadata": {},
   "source": [
    "__________          ________           _______          ________          _________  \n",
    "     g    |<- s1 ->|<--w1-->|<--s1--> |<--d-->|<--s2-->|<--w2-->|<--s2-->|   g"
   ]
  },
  {
   "cell_type": "code",
   "execution_count": 50,
   "metadata": {},
   "outputs": [
    {
     "name": "stdout",
     "output_type": "stream",
     "text": [
      "The inductance per unit length is 1.35e-07 H/m\n"
     ]
    }
   ],
   "source": [
    "d = 5\n",
    "MperL = inductiveCoupling.inductiveCoupling.CalcMutual(cpw.w*1e6, cpw.w*1e6, cpw.s*1e6, cpw.s*1e6, d, 10*cpw.w*1e6)[0]"
   ]
  },
  {
   "cell_type": "code",
   "execution_count": 62,
   "metadata": {},
   "outputs": [
    {
     "name": "stdout",
     "output_type": "stream",
     "text": [
      "              Transmon  M = 35.93pH  coupling length = 265.27um\n",
      "Charge Sensitive Qubit  M = 42.34pH  coupling length = 312.61um\n"
     ]
    }
   ],
   "source": [
    "for q in qubits:\n",
    "    M = 1/(np.sqrt(q.Q_r()*pi/8/cpw.z0()**2)*omega_r)\n",
    "    print \"{}  M = {:.2f}pH  coupling length = {:.2f}um\".format(q.name, M*1e12, M/MperL*1e6)"
   ]
  },
  {
   "cell_type": "code",
   "execution_count": 45,
   "metadata": {},
   "outputs": [
    {
     "name": "stdout",
     "output_type": "stream",
     "text": [
      "Q_c=3000  l_c=319.97\n",
      "Q_c=6000  l_c=226.25\n",
      "Q_c=9000  l_c=184.73\n",
      "Q_c=15000  l_c=143.09\n",
      "Q_c=21000  l_c=120.94\n",
      "Q_c=27000  l_c=106.66\n",
      "Q_c=33000  l_c=96.47\n"
     ]
    }
   ],
   "source": [
    "for q in [3000,6000,9000,15000,21000,27000,33000]:\n",
    "    print \"Q_c={}  l_c={:.2f}\".format(q,1/(np.sqrt(q*pi/8/cpw.z0()**2)*omega_r)/MperL*1e6)"
   ]
  },
  {
   "cell_type": "markdown",
   "metadata": {},
   "source": [
    "## Purcell Filter ##\n",
    "Do we even need a purcell filter? [3]  \n",
    "Without purcell filter: $\\kappa_r T_1 \\le \\left(\\frac{\\Delta}{g}\\right)^2$  \n",
    "With purcell filter: $\\kappa_r T_1 \\le \\left(\\frac{\\Delta}{g}\\right)^2 \\left(\\frac{\\omega_r}{\\omega_q}\\right) \\left(\\frac{2\\Delta}{\\omega_r/Q_{pf}}\\right)^2$  \n",
    "$\\kappa_r = \\omega_r/Q_r$  \n",
    "\n",
    "With the readout resonators spaced ~30MHz appart, we need a bandwidth of at least 4*30MHz=120MHz.  \n",
    "We have a range of readout resonators from 5-6GHz.  \n",
    "  \n",
    "[3] Jeffrey et al. Fast accurate state measurement with superconducting qubits. Physical Review Letters, 112(19), 1–5. http://doi.org/10.1103/PhysRevLett.112.190504"
   ]
  },
  {
   "cell_type": "code",
   "execution_count": 106,
   "metadata": {},
   "outputs": [
    {
     "name": "stdout",
     "output_type": "stream",
     "text": [
      "f=5.0GHz  l=11854.681um  Q_in=397.28  Q_out=40.63\n",
      "f=5.5GHz  l=10776.983um  Q_in=329.24  Q_out=34.03\n",
      "f=6.0GHz  l=9878.901um   Q_in=277.44  Q_out=29.00\n",
      "f=5.925GHz  l=10003.950um  Q_in=284.39  Q_out=29.68\n",
      "f=4.8GHz  l=12348.626um  Q_in=430.60  Q_out=43.85\n",
      "\n",
      "Min Frequency:\n",
      "f=5.022GHz for l = 10849.64um including pull of caps\n",
      "V_out/V_in = 3.1115374893284007\n",
      "9.58% power lost through input\n",
      "92.76% power lost through output\n",
      "0.00% power lost internally\n",
      "\n",
      "Max Frequency:\n",
      "f=6.070GHz for l = 8837.64um including pull of caps\n",
      "V_out/V_in = 3.0674026785556925\n",
      "9.88% power lost through input\n",
      "92.92% power lost through output\n",
      "0.00% power lost internally\n",
      "\n",
      "The measured purcell filter (no crossovers) is 5.617GHz.  To adjust for this, we need to decrease the predicted frequency by 147MHz.\n",
      "f=6.038GHz for l = 9129.64um including pull of caps\n",
      "The purcell filter frequency goes up by 302MHz when crossovers are added.\n"
     ]
    },
    {
     "ename": "TypeError",
     "evalue": "super(type, obj): obj must be an instance or subtype of type",
     "output_type": "error",
     "traceback": [
      "\u001b[0;31m---------------------------------------------------------------------------\u001b[0m",
      "\u001b[0;31mTypeError\u001b[0m                                 Traceback (most recent call last)",
      "\u001b[0;32m<ipython-input-106-034574ccbbf8>\u001b[0m in \u001b[0;36m<module>\u001b[0;34m()\u001b[0m\n\u001b[1;32m     35\u001b[0m \u001b[0mpurcellx\u001b[0m\u001b[0;34m.\u001b[0m\u001b[0maddCapacitiveCoupling\u001b[0m\u001b[0;34m(\u001b[0m\u001b[0;34m'out'\u001b[0m\u001b[0;34m,\u001b[0m \u001b[0;36m130e-15\u001b[0m\u001b[0;34m)\u001b[0m\u001b[0;34m\u001b[0m\u001b[0m\n\u001b[1;32m     36\u001b[0m \u001b[0mpurcellx\u001b[0m\u001b[0;34m.\u001b[0m\u001b[0ml\u001b[0m \u001b[0;34m=\u001b[0m \u001b[0;34m(\u001b[0m\u001b[0mtot_length\u001b[0m \u001b[0;34m+\u001b[0m \u001b[0;36m222\u001b[0m\u001b[0;34m*\u001b[0m\u001b[0;36m4\u001b[0m\u001b[0;34m)\u001b[0m\u001b[0;34m*\u001b[0m\u001b[0;36m1e-6\u001b[0m\u001b[0;34m\u001b[0m\u001b[0m\n\u001b[0;32m---> 37\u001b[0;31m \u001b[0;32mprint\u001b[0m \u001b[0;34m\"f={:.3f}GHz for l = {:.2f}um including pull of caps\"\u001b[0m\u001b[0;34m.\u001b[0m\u001b[0mformat\u001b[0m\u001b[0;34m(\u001b[0m\u001b[0;36m1e-9\u001b[0m\u001b[0;34m*\u001b[0m\u001b[0mpurcellx\u001b[0m\u001b[0;34m.\u001b[0m\u001b[0mfl\u001b[0m\u001b[0;34m(\u001b[0m\u001b[0;34m)\u001b[0m\u001b[0;34m+\u001b[0m\u001b[0;36m0.147\u001b[0m\u001b[0;34m,\u001b[0m \u001b[0mpurcellx\u001b[0m\u001b[0;34m.\u001b[0m\u001b[0ml\u001b[0m\u001b[0;34m*\u001b[0m\u001b[0;36m1e6\u001b[0m\u001b[0;34m)\u001b[0m\u001b[0;34m\u001b[0m\u001b[0m\n\u001b[0m",
      "\u001b[0;32m/Users/chriswilen/Documents/grad-school/research/mcdermott/CodeRepositories/Simulation-and-Design/Microwave Design/cpwtools.pyc\u001b[0m in \u001b[0;36mfl\u001b[0;34m(self)\u001b[0m\n\u001b[1;32m    271\u001b[0m     \u001b[0;32mdef\u001b[0m \u001b[0mfl\u001b[0m\u001b[0;34m(\u001b[0m\u001b[0mself\u001b[0m\u001b[0;34m)\u001b[0m\u001b[0;34m:\u001b[0m\u001b[0;34m\u001b[0m\u001b[0m\n\u001b[1;32m    272\u001b[0m         \u001b[0;34m'''Loaded frequency'''\u001b[0m\u001b[0;34m\u001b[0m\u001b[0m\n\u001b[0;32m--> 273\u001b[0;31m         \u001b[0;32mreturn\u001b[0m \u001b[0mself\u001b[0m\u001b[0;34m.\u001b[0m\u001b[0mwl\u001b[0m\u001b[0;34m(\u001b[0m\u001b[0;34m)\u001b[0m\u001b[0;34m/\u001b[0m\u001b[0;36m2\u001b[0m\u001b[0;34m/\u001b[0m\u001b[0mpi\u001b[0m\u001b[0;34m\u001b[0m\u001b[0m\n\u001b[0m\u001b[1;32m    274\u001b[0m \u001b[0;34m\u001b[0m\u001b[0m\n\u001b[1;32m    275\u001b[0m     \u001b[0;32mdef\u001b[0m \u001b[0mQc\u001b[0m\u001b[0;34m(\u001b[0m\u001b[0mself\u001b[0m\u001b[0;34m,\u001b[0m \u001b[0mname\u001b[0m\u001b[0;34m=\u001b[0m\u001b[0mNone\u001b[0m\u001b[0;34m)\u001b[0m\u001b[0;34m:\u001b[0m\u001b[0;34m\u001b[0m\u001b[0m\n",
      "\u001b[0;32m/Users/chriswilen/Documents/grad-school/research/mcdermott/CodeRepositories/Simulation-and-Design/Microwave Design/cpwtools.pyc\u001b[0m in \u001b[0;36mwl\u001b[0;34m(self)\u001b[0m\n\u001b[1;32m    266\u001b[0m     \u001b[0;32mdef\u001b[0m \u001b[0mwl\u001b[0m\u001b[0;34m(\u001b[0m\u001b[0mself\u001b[0m\u001b[0;34m)\u001b[0m\u001b[0;34m:\u001b[0m\u001b[0;34m\u001b[0m\u001b[0m\n\u001b[1;32m    267\u001b[0m         \u001b[0;34m'''Loaded frequency in rad/s'''\u001b[0m\u001b[0;34m\u001b[0m\u001b[0m\n\u001b[0;32m--> 268\u001b[0;31m         \u001b[0mextraCs\u001b[0m \u001b[0;34m=\u001b[0m \u001b[0;34m[\u001b[0m\u001b[0mself\u001b[0m\u001b[0;34m.\u001b[0m\u001b[0mextraCFromCouplingC\u001b[0m\u001b[0;34m(\u001b[0m\u001b[0mname\u001b[0m\u001b[0;34m)\u001b[0m \u001b[0;32mfor\u001b[0m \u001b[0mname\u001b[0m \u001b[0;32min\u001b[0m \u001b[0mself\u001b[0m\u001b[0;34m.\u001b[0m\u001b[0mcouplings_C\u001b[0m\u001b[0;34m.\u001b[0m\u001b[0mkeys\u001b[0m\u001b[0;34m(\u001b[0m\u001b[0;34m)\u001b[0m\u001b[0;34m]\u001b[0m\u001b[0;34m\u001b[0m\u001b[0m\n\u001b[0m\u001b[1;32m    269\u001b[0m         \u001b[0;32mreturn\u001b[0m \u001b[0;36m1.\u001b[0m\u001b[0;34m/\u001b[0m\u001b[0mnp\u001b[0m\u001b[0;34m.\u001b[0m\u001b[0msqrt\u001b[0m\u001b[0;34m(\u001b[0m\u001b[0mself\u001b[0m\u001b[0;34m.\u001b[0m\u001b[0mL\u001b[0m\u001b[0;34m(\u001b[0m\u001b[0;34m)\u001b[0m\u001b[0;34m*\u001b[0m\u001b[0;34m(\u001b[0m\u001b[0mself\u001b[0m\u001b[0;34m.\u001b[0m\u001b[0mC\u001b[0m\u001b[0;34m(\u001b[0m\u001b[0;34m)\u001b[0m \u001b[0;34m+\u001b[0m \u001b[0msum\u001b[0m\u001b[0;34m(\u001b[0m\u001b[0mextraCs\u001b[0m\u001b[0;34m)\u001b[0m\u001b[0;34m)\u001b[0m\u001b[0;34m)\u001b[0m\u001b[0;34m\u001b[0m\u001b[0m\n\u001b[1;32m    270\u001b[0m \u001b[0;34m\u001b[0m\u001b[0m\n",
      "\u001b[0;32m/Users/chriswilen/Documents/grad-school/research/mcdermott/CodeRepositories/Simulation-and-Design/Microwave Design/cpwtools.pyc\u001b[0m in \u001b[0;36mextraCFromCouplingC\u001b[0;34m(self, name, Z0)\u001b[0m\n\u001b[1;32m    259\u001b[0m         \u001b[0;34m'''Effective input capacitance to ground'''\u001b[0m\u001b[0;34m\u001b[0m\u001b[0m\n\u001b[1;32m    260\u001b[0m         \u001b[0mc\u001b[0m \u001b[0;34m=\u001b[0m \u001b[0mself\u001b[0m\u001b[0;34m.\u001b[0m\u001b[0mcouplings_C\u001b[0m\u001b[0;34m[\u001b[0m\u001b[0mname\u001b[0m\u001b[0;34m]\u001b[0m\u001b[0;34m\u001b[0m\u001b[0m\n\u001b[0;32m--> 261\u001b[0;31m         \u001b[0;32mreturn\u001b[0m \u001b[0mc\u001b[0m\u001b[0;34m/\u001b[0m\u001b[0;34m(\u001b[0m\u001b[0;36m1.\u001b[0m \u001b[0;34m+\u001b[0m \u001b[0;34m(\u001b[0m\u001b[0mself\u001b[0m\u001b[0;34m.\u001b[0m\u001b[0mwn\u001b[0m\u001b[0;34m(\u001b[0m\u001b[0;34m)\u001b[0m\u001b[0;34m*\u001b[0m\u001b[0mc\u001b[0m\u001b[0;34m*\u001b[0m\u001b[0mZ0\u001b[0m\u001b[0;34m)\u001b[0m\u001b[0;34m**\u001b[0m\u001b[0;36m2\u001b[0m\u001b[0;34m)\u001b[0m\u001b[0;34m\u001b[0m\u001b[0m\n\u001b[0m\u001b[1;32m    262\u001b[0m \u001b[0;34m\u001b[0m\u001b[0m\n\u001b[1;32m    263\u001b[0m     \u001b[0;32mdef\u001b[0m \u001b[0maddCapacitiveCoupling\u001b[0m\u001b[0;34m(\u001b[0m\u001b[0mself\u001b[0m\u001b[0;34m,\u001b[0m \u001b[0mname\u001b[0m\u001b[0;34m,\u001b[0m \u001b[0mc\u001b[0m\u001b[0;34m)\u001b[0m\u001b[0;34m:\u001b[0m\u001b[0;34m\u001b[0m\u001b[0m\n",
      "\u001b[0;32m/Users/chriswilen/Documents/grad-school/research/mcdermott/CodeRepositories/Simulation-and-Design/Microwave Design/cpwtools.pyc\u001b[0m in \u001b[0;36mwn\u001b[0;34m(self)\u001b[0m\n\u001b[1;32m    242\u001b[0m \u001b[0;34m\u001b[0m\u001b[0m\n\u001b[1;32m    243\u001b[0m     \u001b[0;32mdef\u001b[0m \u001b[0mwn\u001b[0m\u001b[0;34m(\u001b[0m\u001b[0mself\u001b[0m\u001b[0;34m)\u001b[0m\u001b[0;34m:\u001b[0m\u001b[0;34m\u001b[0m\u001b[0m\n\u001b[0;32m--> 244\u001b[0;31m         \u001b[0;32mreturn\u001b[0m \u001b[0;36m1.\u001b[0m\u001b[0;34m/\u001b[0m\u001b[0mnp\u001b[0m\u001b[0;34m.\u001b[0m\u001b[0msqrt\u001b[0m\u001b[0;34m(\u001b[0m\u001b[0mself\u001b[0m\u001b[0;34m.\u001b[0m\u001b[0mL\u001b[0m\u001b[0;34m(\u001b[0m\u001b[0;34m)\u001b[0m\u001b[0;34m*\u001b[0m\u001b[0mself\u001b[0m\u001b[0;34m.\u001b[0m\u001b[0mC\u001b[0m\u001b[0;34m(\u001b[0m\u001b[0;34m)\u001b[0m\u001b[0;34m)\u001b[0m \u001b[0;31m# Goppl\u001b[0m\u001b[0;34m\u001b[0m\u001b[0m\n\u001b[0m\u001b[1;32m    245\u001b[0m         \u001b[0;31m# return self.Qint()/(self.R()*self.C())\u001b[0m\u001b[0;34m\u001b[0m\u001b[0;34m\u001b[0m\u001b[0m\n\u001b[1;32m    246\u001b[0m \u001b[0;34m\u001b[0m\u001b[0m\n",
      "\u001b[0;32m/Users/chriswilen/Documents/grad-school/research/mcdermott/CodeRepositories/Simulation-and-Design/Microwave Design/cpwtools.pyc\u001b[0m in \u001b[0;36mL\u001b[0;34m(self)\u001b[0m\n\u001b[1;32m    225\u001b[0m     \u001b[0;32mdef\u001b[0m \u001b[0mL\u001b[0m\u001b[0;34m(\u001b[0m\u001b[0mself\u001b[0m\u001b[0;34m)\u001b[0m\u001b[0;34m:\u001b[0m\u001b[0;34m\u001b[0m\u001b[0m\n\u001b[1;32m    226\u001b[0m         \u001b[0;31m# return 2*self.cpw.Ll()*self.l/(pi**2) # Goppl\u001b[0m\u001b[0;34m\u001b[0m\u001b[0;34m\u001b[0m\u001b[0m\n\u001b[0;32m--> 227\u001b[0;31m         \u001b[0;32mreturn\u001b[0m \u001b[0;36m1.\u001b[0m\u001b[0;34m/\u001b[0m\u001b[0mself\u001b[0m\u001b[0;34m.\u001b[0m\u001b[0mC\u001b[0m\u001b[0;34m(\u001b[0m\u001b[0;34m)\u001b[0m\u001b[0;34m/\u001b[0m\u001b[0mself\u001b[0m\u001b[0;34m.\u001b[0m\u001b[0mw0\u001b[0m\u001b[0;34m(\u001b[0m\u001b[0;34m)\u001b[0m\u001b[0;34m**\u001b[0m\u001b[0;36m2\u001b[0m \u001b[0;31m# Pozar p.283\u001b[0m\u001b[0;34m\u001b[0m\u001b[0m\n\u001b[0m\u001b[1;32m    228\u001b[0m \u001b[0;34m\u001b[0m\u001b[0m\n\u001b[1;32m    229\u001b[0m     \u001b[0;32mdef\u001b[0m \u001b[0mC\u001b[0m\u001b[0;34m(\u001b[0m\u001b[0mself\u001b[0m\u001b[0;34m)\u001b[0m\u001b[0;34m:\u001b[0m\u001b[0;34m\u001b[0m\u001b[0m\n",
      "\u001b[0;32m/Users/chriswilen/Documents/grad-school/research/mcdermott/CodeRepositories/Simulation-and-Design/Microwave Design/cpwtools.pyc\u001b[0m in \u001b[0;36mC\u001b[0;34m(self)\u001b[0m\n\u001b[1;32m    230\u001b[0m         \u001b[0;31m# these are equiv. (I checked)\u001b[0m\u001b[0;34m\u001b[0m\u001b[0;34m\u001b[0m\u001b[0m\n\u001b[1;32m    231\u001b[0m         \u001b[0;31m# return self.cpw.Cl()*self.l/2 # Goppl\u001b[0m\u001b[0;34m\u001b[0m\u001b[0;34m\u001b[0m\u001b[0m\n\u001b[0;32m--> 232\u001b[0;31m         \u001b[0;32mreturn\u001b[0m \u001b[0mnp\u001b[0m\u001b[0;34m.\u001b[0m\u001b[0mpi\u001b[0m\u001b[0;34m/\u001b[0m\u001b[0mself\u001b[0m\u001b[0;34m.\u001b[0m\u001b[0mwavelengthFraction\u001b[0m\u001b[0;34m/\u001b[0m\u001b[0mself\u001b[0m\u001b[0;34m.\u001b[0m\u001b[0mw0\u001b[0m\u001b[0;34m(\u001b[0m\u001b[0;34m)\u001b[0m\u001b[0;34m/\u001b[0m\u001b[0mself\u001b[0m\u001b[0;34m.\u001b[0m\u001b[0mcpw\u001b[0m\u001b[0;34m.\u001b[0m\u001b[0mz0\u001b[0m\u001b[0;34m(\u001b[0m\u001b[0;34m)\u001b[0m \u001b[0;31m# Pozar p.283\u001b[0m\u001b[0;34m\u001b[0m\u001b[0m\n\u001b[0m\u001b[1;32m    233\u001b[0m \u001b[0;34m\u001b[0m\u001b[0m\n\u001b[1;32m    234\u001b[0m     \u001b[0;32mdef\u001b[0m \u001b[0mR\u001b[0m\u001b[0;34m(\u001b[0m\u001b[0mself\u001b[0m\u001b[0;34m)\u001b[0m\u001b[0;34m:\u001b[0m\u001b[0;34m\u001b[0m\u001b[0m\n",
      "\u001b[0;32m/Users/chriswilen/Documents/grad-school/research/mcdermott/CodeRepositories/Simulation-and-Design/Microwave Design/cpwtools.pyc\u001b[0m in \u001b[0;36mw0\u001b[0;34m(self)\u001b[0m\n\u001b[1;32m    215\u001b[0m \u001b[0;34m\u001b[0m\u001b[0m\n\u001b[1;32m    216\u001b[0m     \u001b[0;32mdef\u001b[0m \u001b[0mw0\u001b[0m\u001b[0;34m(\u001b[0m\u001b[0mself\u001b[0m\u001b[0;34m)\u001b[0m\u001b[0;34m:\u001b[0m\u001b[0;34m\u001b[0m\u001b[0m\n\u001b[0;32m--> 217\u001b[0;31m         \u001b[0;32mreturn\u001b[0m \u001b[0;36m2\u001b[0m\u001b[0;34m*\u001b[0m\u001b[0mpi\u001b[0m\u001b[0;34m*\u001b[0m\u001b[0mself\u001b[0m\u001b[0;34m.\u001b[0m\u001b[0mf0\u001b[0m\u001b[0;34m(\u001b[0m\u001b[0;34m)\u001b[0m \u001b[0;31m# Goppl\u001b[0m\u001b[0;34m\u001b[0m\u001b[0m\n\u001b[0m\u001b[1;32m    218\u001b[0m \u001b[0;34m\u001b[0m\u001b[0m\n\u001b[1;32m    219\u001b[0m     \u001b[0;31m#     Circuit Parameters with Loss\u001b[0m\u001b[0;34m\u001b[0m\u001b[0;34m\u001b[0m\u001b[0m\n",
      "\u001b[0;32m/Users/chriswilen/Documents/grad-school/research/mcdermott/CodeRepositories/Simulation-and-Design/Microwave Design/cpwtools.pyc\u001b[0m in \u001b[0;36mf0\u001b[0;34m(self)\u001b[0m\n\u001b[1;32m    212\u001b[0m     \u001b[0;32mdef\u001b[0m \u001b[0mf0\u001b[0m\u001b[0;34m(\u001b[0m\u001b[0mself\u001b[0m\u001b[0;34m)\u001b[0m\u001b[0;34m:\u001b[0m\u001b[0;34m\u001b[0m\u001b[0m\n\u001b[1;32m    213\u001b[0m         \u001b[0;31m# return c/(np.sqrt(self.cpw.Eeff())*2*self.l) # Goppl for L/2, doesn't include kinetic inductance?\u001b[0m\u001b[0;34m\u001b[0m\u001b[0;34m\u001b[0m\u001b[0m\n\u001b[0;32m--> 214\u001b[0;31m         \u001b[0;32mreturn\u001b[0m \u001b[0mself\u001b[0m\u001b[0;34m.\u001b[0m\u001b[0mcpw\u001b[0m\u001b[0;34m.\u001b[0m\u001b[0mvph\u001b[0m\u001b[0;34m(\u001b[0m\u001b[0;34m)\u001b[0m\u001b[0;34m/\u001b[0m\u001b[0;34m(\u001b[0m\u001b[0mself\u001b[0m\u001b[0;34m.\u001b[0m\u001b[0ml\u001b[0m\u001b[0;34m*\u001b[0m\u001b[0mself\u001b[0m\u001b[0;34m.\u001b[0m\u001b[0mwavelengthFraction\u001b[0m\u001b[0;34m)\u001b[0m\u001b[0;34m\u001b[0m\u001b[0m\n\u001b[0m\u001b[1;32m    215\u001b[0m \u001b[0;34m\u001b[0m\u001b[0m\n\u001b[1;32m    216\u001b[0m     \u001b[0;32mdef\u001b[0m \u001b[0mw0\u001b[0m\u001b[0;34m(\u001b[0m\u001b[0mself\u001b[0m\u001b[0;34m)\u001b[0m\u001b[0;34m:\u001b[0m\u001b[0;34m\u001b[0m\u001b[0m\n",
      "\u001b[0;32m/Users/chriswilen/Documents/grad-school/research/mcdermott/CodeRepositories/Simulation-and-Design/Microwave Design/cpwtools.pyc\u001b[0m in \u001b[0;36mvph\u001b[0;34m(self)\u001b[0m\n\u001b[1;32m    132\u001b[0m     \u001b[0;32mdef\u001b[0m \u001b[0mvph\u001b[0m\u001b[0;34m(\u001b[0m\u001b[0mself\u001b[0m\u001b[0;34m)\u001b[0m\u001b[0;34m:\u001b[0m\u001b[0;34m\u001b[0m\u001b[0m\n\u001b[1;32m    133\u001b[0m         \u001b[0;34m\"\"\"Phase velocity.\"\"\"\u001b[0m\u001b[0;34m\u001b[0m\u001b[0m\n\u001b[0;32m--> 134\u001b[0;31m         \u001b[0;32mreturn\u001b[0m \u001b[0;36m1.\u001b[0m\u001b[0;34m/\u001b[0m\u001b[0mnp\u001b[0m\u001b[0;34m.\u001b[0m\u001b[0msqrt\u001b[0m\u001b[0;34m(\u001b[0m\u001b[0mself\u001b[0m\u001b[0;34m.\u001b[0m\u001b[0mLl\u001b[0m\u001b[0;34m(\u001b[0m\u001b[0;34m)\u001b[0m\u001b[0;34m*\u001b[0m\u001b[0mself\u001b[0m\u001b[0;34m.\u001b[0m\u001b[0mCl\u001b[0m\u001b[0;34m(\u001b[0m\u001b[0;34m)\u001b[0m\u001b[0;34m)\u001b[0m\u001b[0;34m\u001b[0m\u001b[0m\n\u001b[0m\u001b[1;32m    135\u001b[0m \u001b[0;34m\u001b[0m\u001b[0m\n\u001b[1;32m    136\u001b[0m     \u001b[0;32mdef\u001b[0m \u001b[0mz0\u001b[0m\u001b[0;34m(\u001b[0m\u001b[0mself\u001b[0m\u001b[0;34m)\u001b[0m\u001b[0;34m:\u001b[0m\u001b[0;34m\u001b[0m\u001b[0m\n",
      "\u001b[0;32m/Users/chriswilen/Documents/grad-school/research/mcdermott/CodeRepositories/Simulation-and-Design/Microwave Design/cpwtools.pyc\u001b[0m in \u001b[0;36mLl\u001b[0;34m(self)\u001b[0m\n\u001b[1;32m    121\u001b[0m             \u001b[0;32mreturn\u001b[0m \u001b[0mself\u001b[0m\u001b[0;34m.\u001b[0m\u001b[0mLlg\u001b[0m\u001b[0;34m(\u001b[0m\u001b[0;34m)\u001b[0m \u001b[0;34m+\u001b[0m \u001b[0mself\u001b[0m\u001b[0;34m.\u001b[0m\u001b[0mLlk\u001b[0m\u001b[0;34m(\u001b[0m\u001b[0;34m)\u001b[0m\u001b[0;34m\u001b[0m\u001b[0m\n\u001b[1;32m    122\u001b[0m         \u001b[0;32melse\u001b[0m\u001b[0;34m:\u001b[0m\u001b[0;34m\u001b[0m\u001b[0m\n\u001b[0;32m--> 123\u001b[0;31m             \u001b[0;32mreturn\u001b[0m \u001b[0mself\u001b[0m\u001b[0;34m.\u001b[0m\u001b[0mLlg\u001b[0m\u001b[0;34m(\u001b[0m\u001b[0;34m)\u001b[0m\u001b[0;34m\u001b[0m\u001b[0m\n\u001b[0m\u001b[1;32m    124\u001b[0m \u001b[0;34m\u001b[0m\u001b[0m\n\u001b[1;32m    125\u001b[0m     \u001b[0;32mdef\u001b[0m \u001b[0mCl\u001b[0m\u001b[0;34m(\u001b[0m\u001b[0mself\u001b[0m\u001b[0;34m)\u001b[0m\u001b[0;34m:\u001b[0m\u001b[0;34m\u001b[0m\u001b[0m\n",
      "\u001b[0;32m/Users/chriswilen/Documents/grad-school/research/mcdermott/CodeRepositories/Simulation-and-Design/Microwave Design/cpwtools.pyc\u001b[0m in \u001b[0;36mLlg\u001b[0;34m(self)\u001b[0m\n\u001b[1;32m    192\u001b[0m \u001b[0;34m\u001b[0m\u001b[0m\n\u001b[1;32m    193\u001b[0m     \u001b[0;32mdef\u001b[0m \u001b[0mLlg\u001b[0m\u001b[0;34m(\u001b[0m\u001b[0mself\u001b[0m\u001b[0;34m)\u001b[0m\u001b[0;34m:\u001b[0m\u001b[0;34m\u001b[0m\u001b[0m\n\u001b[0;32m--> 194\u001b[0;31m         \u001b[0;32mreturn\u001b[0m \u001b[0mself\u001b[0m\u001b[0;34m.\u001b[0m\u001b[0mEeff\u001b[0m\u001b[0;34m(\u001b[0m\u001b[0;34m)\u001b[0m\u001b[0;34m/\u001b[0m\u001b[0mc\u001b[0m\u001b[0;34m**\u001b[0m\u001b[0;36m2\u001b[0m\u001b[0;34m/\u001b[0m\u001b[0mself\u001b[0m\u001b[0;34m.\u001b[0m\u001b[0mCl\u001b[0m\u001b[0;34m(\u001b[0m\u001b[0;34m)\u001b[0m\u001b[0;34m\u001b[0m\u001b[0m\n\u001b[0m\u001b[1;32m    195\u001b[0m \u001b[0;34m\u001b[0m\u001b[0m\n\u001b[1;32m    196\u001b[0m     \u001b[0;32mdef\u001b[0m \u001b[0mGl_bridge\u001b[0m\u001b[0;34m(\u001b[0m\u001b[0mself\u001b[0m\u001b[0;34m,\u001b[0m \u001b[0mw\u001b[0m\u001b[0;34m)\u001b[0m\u001b[0;34m:\u001b[0m\u001b[0;34m\u001b[0m\u001b[0m\n",
      "\u001b[0;32m/Users/chriswilen/Documents/grad-school/research/mcdermott/CodeRepositories/Simulation-and-Design/Microwave Design/cpwtools.pyc\u001b[0m in \u001b[0;36mCl\u001b[0;34m(self)\u001b[0m\n\u001b[1;32m    188\u001b[0m         \u001b[0;31m# it is really the additional capacitance that changes the Eeff, not the\u001b[0m\u001b[0;34m\u001b[0m\u001b[0;34m\u001b[0m\u001b[0m\n\u001b[1;32m    189\u001b[0m         \u001b[0;31m# other way around.\u001b[0m\u001b[0;34m\u001b[0m\u001b[0;34m\u001b[0m\u001b[0m\n\u001b[0;32m--> 190\u001b[0;31m         \u001b[0mcpwCap\u001b[0m \u001b[0;34m=\u001b[0m \u001b[0msuper\u001b[0m\u001b[0;34m(\u001b[0m\u001b[0mCPWWithBridges\u001b[0m\u001b[0;34m,\u001b[0m\u001b[0mself\u001b[0m\u001b[0;34m)\u001b[0m\u001b[0;34m.\u001b[0m\u001b[0mCl\u001b[0m\u001b[0;34m(\u001b[0m\u001b[0;34m)\u001b[0m \u001b[0;34m*\u001b[0m \u001b[0mself\u001b[0m\u001b[0;34m.\u001b[0m\u001b[0mEeffForPlainCPW\u001b[0m\u001b[0;34m(\u001b[0m\u001b[0;34m)\u001b[0m\u001b[0;34m/\u001b[0m\u001b[0mself\u001b[0m\u001b[0;34m.\u001b[0m\u001b[0mEeff\u001b[0m\u001b[0;34m(\u001b[0m\u001b[0;34m)\u001b[0m\u001b[0;34m\u001b[0m\u001b[0m\n\u001b[0m\u001b[1;32m    191\u001b[0m         \u001b[0;32mreturn\u001b[0m \u001b[0mcpwCap\u001b[0m \u001b[0;34m+\u001b[0m \u001b[0mself\u001b[0m\u001b[0;34m.\u001b[0m\u001b[0mCl_bridge_dielectric\u001b[0m\u001b[0;34m(\u001b[0m\u001b[0;34m)\u001b[0m\u001b[0;34m\u001b[0m\u001b[0m\n\u001b[1;32m    192\u001b[0m \u001b[0;34m\u001b[0m\u001b[0m\n",
      "\u001b[0;31mTypeError\u001b[0m: super(type, obj): obj must be an instance or subtype of type"
     ]
    }
   ],
   "source": [
    "l_curve = 2*pi*50/4\n",
    "tot_length = l_curve*(1+2+2+2+1)*2 + 4*750 + 2569 + 4*450 + 2*106\n",
    "\n",
    "purcell = cpwtools.HalfLResonator(cpw,11000)\n",
    "purcell.addCapacitiveCoupling('in', 40e-15)\n",
    "purcell.addCapacitiveCoupling('out', 130e-15)\n",
    "print \"f=5.0GHz  l={:.3f}um  Q_in={:.2f}  Q_out={:.2f}\".format( purcell.setLengthFromFreq(5.0e9)*1e6, purcell.Qc('in'), purcell.Qc('out') )\n",
    "print \"f=5.5GHz  l={:.3f}um  Q_in={:.2f}  Q_out={:.2f}\".format( purcell.setLengthFromFreq(5.5e9)*1e6, purcell.Qc('in'), purcell.Qc('out') )\n",
    "print \"f=6.0GHz  l={:.3f}um   Q_in={:.2f}  Q_out={:.2f}\".format( purcell.setLengthFromFreq(6.0e9)*1e6, purcell.Qc('in'), purcell.Qc('out') )\n",
    "print \"f=5.925GHz  l={:.3f}um  Q_in={:.2f}  Q_out={:.2f}\".format( purcell.setLengthFromFreq(5.925e9)*1e6, purcell.Qc('in'), purcell.Qc('out') )\n",
    "print \"f=4.8GHz  l={:.3f}um  Q_in={:.2f}  Q_out={:.2f}\".format( purcell.setLengthFromFreq(4.8e9)*1e6, purcell.Qc('in'), purcell.Qc('out') )\n",
    "print\n",
    "print 'Min Frequency:'\n",
    "purcell.l = (tot_length + 503*4)*1e-6\n",
    "print \"f={:.3f}GHz for l = {:.2f}um including pull of caps\".format(1e-9*purcell.fl(), purcell.l*1e6)\n",
    "print \"V_out/V_in =\", (purcell.Qc('in')/purcell.Qc('out'))**0.5\n",
    "print \"{:.2f}% power lost through input\".format( 100*purcell.Ql()/purcell.Qc('in') )\n",
    "print \"{:.2f}% power lost through output\".format( 100*purcell.Ql()/purcell.Qc('out') )\n",
    "print \"{:.2f}% power lost internally\".format( 100*purcell.Ql()/purcell.Qint() )\n",
    "print\n",
    "print 'Max Frequency:'\n",
    "purcell.l = (tot_length + 0*4)*1e-6\n",
    "print \"f={:.3f}GHz for l = {:.2f}um including pull of caps\".format(1e-9*purcell.fl(), purcell.l*1e6)\n",
    "print \"V_out/V_in =\", (purcell.Qc('in')/purcell.Qc('out'))**0.5\n",
    "print \"{:.2f}% power lost through input\".format( 100*purcell.Ql()/purcell.Qc('in') )\n",
    "print \"{:.2f}% power lost through output\".format( 100*purcell.Ql()/purcell.Qc('out') )\n",
    "print \"{:.2f}% power lost internally\".format( 100*purcell.Ql()/purcell.Qint() )\n",
    "print\n",
    "print \"The measured purcell filter (no crossovers) is 5.617GHz.  To adjust for this, we need to decrease the predicted frequency by 147MHz.\"\n",
    "purcell.l = (tot_length + 73*4)*1e-6\n",
    "print \"f={:.3f}GHz for l = {:.2f}um including pull of caps\".format(1e-9*purcell.fl()+0.147, purcell.l*1e6)\n",
    "print \"The purcell filter frequency goes up by 302MHz when crossovers are added.\"\n",
    "purcellx = cpwtools.HalfLResonator(cpwx,11000)\n",
    "purcellx.addCapacitiveCoupling('in', 40e-15)\n",
    "purcellx.addCapacitiveCoupling('out', 130e-15)\n",
    "purcellx.l = (tot_length + 222*4)*1e-6\n",
    "print \"f={:.3f}GHz for l = {:.2f}um including pull of caps\".format(1e-9*purcellx.fl()+0.147, purcellx.l*1e6)"
   ]
  },
  {
   "cell_type": "code",
   "execution_count": 23,
   "metadata": {},
   "outputs": [
    {
     "name": "stdout",
     "output_type": "stream",
     "text": [
      "Delta = -865.000MHz\n",
      "Purcell Filter FWHM = 322.65MHz\n",
      "Purcell Filter Q_l = 14.33\n",
      "\n",
      "              Transmon\n",
      "6938523.721174244\n",
      "T1 limit without purcell: 53.72us\n",
      "T1 limit with purcell: 1301.01us\n",
      "\n",
      "Charge Sensitive Qubit\n",
      "13956569.490743842\n",
      "T1 limit without purcell: 20.84us\n",
      "T1 limit with purcell: 504.73us\n",
      "\n"
     ]
    }
   ],
   "source": [
    "Delta = omega_q - omega_r\n",
    "print \"Delta = {:.3f}MHz\".format(Delta/1e6/2/pi)\n",
    "print \"Purcell Filter FWHM = {:.2f}MHz\".format(omega_q/purcell.Ql()/2/pi/1e6)\n",
    "print \"Purcell Filter Q_l = {:.2f}\".format(purcell.Ql())\n",
    "print\n",
    "\n",
    "for q in qubits:\n",
    "    print q.name\n",
    "    kappa_r = omega_r/q.Q_r()\n",
    "    print kappa_r\n",
    "    print \"T1 limit without purcell: {:.2f}us\".format((Delta/q.g())**2/kappa_r * 1e6)\n",
    "    print \"T1 limit with purcell: {:.2f}us\".format((Delta/q.g())**2 * (omega_r/omega_q) * (2*Delta/omega_r*purcell.Ql())**2/kappa_r * 1e6)\n",
    "    print"
   ]
  },
  {
   "cell_type": "code",
   "execution_count": 24,
   "metadata": {},
   "outputs": [
    {
     "name": "stdout",
     "output_type": "stream",
     "text": [
      "9837.63706144\n",
      "-503.090734641\n",
      "-234.090734641\n",
      "-10.340734641\n",
      "4.625044159641565\n",
      "-503.0\n"
     ]
    }
   ],
   "source": [
    "print tot_length\n",
    "print (tot_length - 11850)/4\n",
    "print (tot_length - 10774)/4\n",
    "print (tot_length - 9879)/4\n",
    "purcell.l = (tot_length + 503*4)*1e-6\n",
    "print purcell.fl()/1e9\n",
    "print (tot_length - purcell.l*1e6)/4"
   ]
  },
  {
   "cell_type": "markdown",
   "metadata": {},
   "source": [
    "## Notes ##  \n",
    " * Looking at the chip left to right, top to bottom, we have Q1-Q4.  \n",
    " * Q4 is the charge sensitive qubit.  All others are normal transmons.  \n",
    " * The capacitances really brought down the frequencies of all resonators.  This made everything more difficult, and we only have Delta = 850MHz.\n",
    " * The qubit readout resonators inductive coupler for Q4 is 150um instead of 167um.  \n",
    " * Turns out I had M~Z0 instead of M~Z0^2, so my coupling lengths are all off by a factor of 50.\n",
    " * Alex thinks the bias line might be T1 limiting?\n",
    " * XY line on Q2 is messed up on mask"
   ]
  },
  {
   "cell_type": "code",
   "execution_count": null,
   "metadata": {},
   "outputs": [],
   "source": []
  }
 ],
 "metadata": {
  "kernelspec": {
   "display_name": "py-mcdermott",
   "language": "python",
   "name": "py-mcdermott"
  },
  "language_info": {
   "codemirror_mode": {
    "name": "ipython",
    "version": 2
   },
   "file_extension": ".py",
   "mimetype": "text/x-python",
   "name": "python",
   "nbconvert_exporter": "python",
   "pygments_lexer": "ipython2",
   "version": "2.7.10"
  }
 },
 "nbformat": 4,
 "nbformat_minor": 2
}
