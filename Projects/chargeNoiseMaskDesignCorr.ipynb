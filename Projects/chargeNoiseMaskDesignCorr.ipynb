{
 "cells": [
  {
   "cell_type": "code",
   "execution_count": 1,
   "metadata": {},
   "outputs": [
    {
     "name": "stdout",
     "output_type": "stream",
     "text": [
      "The inductance per unit length is 2.33e-08 H/m\n"
     ]
    }
   ],
   "source": [
    "import cpwtools\n",
    "reload(cpwtools)\n",
    "import qubit\n",
    "reload(qubit)\n",
    "inductiveCoupling = __import__(\"Transmission Lines.inductiveCoupling\")\n",
    "import numpy as np\n",
    "from scipy.constants import mu_0, epsilon_0, pi, hbar, e, c\n",
    "from scipy.constants import physical_constants\n",
    "from scipy.optimize import fsolve, root\n",
    "from copy import deepcopy\n",
    "\n",
    "%matplotlib inline\n",
    "\n",
    "import matplotlib as mpl\n",
    "import numpy as np\n",
    "import matplotlib.pyplot as plt"
   ]
  },
  {
   "cell_type": "markdown",
   "metadata": {},
   "source": [
    "# Charge Noise Mask Design #\n",
    "\n",
    "General Notes:\n",
    " * Looking at the chip left to right, top to bottom, we have Q1-Q4.  \n",
    " * Q4 is the charge sensitive qubit.  All others are normal transmons. \n",
    " * Resonators spaced by ~100MHz, lowest to highest\n",
    "\n",
    "Still to do:  \n",
    " * simulate mutual   \n",
    " * bandaids - notches in ground plane?\n",
    " * figure out where junctions go\n",
    " * loops at end of inductive coupling?\n",
    " * dielectric liftoff now?\n",
    " \n",
    "  \n",
    "Problems with mask:\n",
    " * capacitances change resonator frequencies so nothing matches  \n",
    " * Alex thinks flux bias line might be bad\n",
    " * ~~Include open resonator caps on mask~~\n",
    " * ~~put meanders opposite ways to get max qubit spacing~~\n",
    " * ~~did spacing for flux get messed up in x-mon?~~\n",
    " * bandaids\n",
    "\n",
    "\n",
    "40\t40.7\t46.3\t1.5\t39.0\td=15 t=90 m=1.5  \n",
    "50\t52.9\t47.0\t1.44\t30.9\td=15 t=70 m=1  \n",
    "60\t69\t46.9\t1.47\t32.8\td=15 t=55 m=1  \n",
    "70\t90.5\t47.0\t1.45\t35.6\td=15 t=45 m=1  \n",
    "80\t123\t47\t1.46\t41.9\td=15 t=40 m=1  \n",
    "90\t182\t47\t1.49\t54.1\td=15 t=38 m=1  \n",
    "100\t305\t46.9\t1.42\t74.0\td=15 t=35 m=1  \n",
    "108\t500\t46.9\t1.48\t108\td=15 t=35 m=1  "
   ]
  },
  {
   "cell_type": "code",
   "execution_count": 141,
   "metadata": {},
   "outputs": [],
   "source": [
    "ri = (40,50,60,70,80,90,100,108)\n",
    "ro = (40.7,52.9,69,90.5,123,182,305,500)\n",
    "#Cq = (46.3,47.0, 46.9,47.0,47.0,47.0,46.9,46.9)\n",
    "Cq = (46.3,49.5, 46.9,49.5,47.0,51.7,46.9,54)\n",
    "Cg = (1.5, 1.44, 1.47, 1.45, 1.46, 1.49, 1.42, 1.48)\n",
    "Cgnd = (39.0, 30.9, 32.8, 35.6, 41.9, 54.1, 74.0, 108)\n",
    "r_xy = (np.nan, 110, np.nan, 175, np.nan, 290, np.nan, 560)\n",
    "\n",
    "selectedQubits = (5, 1, 7, 3)\n",
    "\n",
    "qubits = []\n",
    "for i in range(len(ri)):\n",
    "    q = qubit.Qubit('OCSQubit{:03}'.format(ri[i]))\n",
    "    q.C_g = Cg[i]*1e-15\n",
    "    q.C_q = Cq[i]*1e-15\n",
    "    q.C_resToGnd = Cgnd[i]*1e-15\n",
    "    q.cpw_length = (700-(ro[i]+15+20+1*ri[i]))*1e-6 # ro + d + 2*g + m*ri\n",
    "    qubits.append(q)"
   ]
  },
  {
   "cell_type": "code",
   "execution_count": 2,
   "metadata": {},
   "outputs": [],
   "source": [
    "# The qubits that are actually to be used\n",
    "ri = (70, 70, 70, 70)\n",
    "ro = (90.5, 90.5, 90.5, 90.5)\n",
    "Cq = (49.5, 49.5, 49.5, 49.5)\n",
    "Cg = (1.45, 1.45, 1.45, 1.45)\n",
    "Cgnd = (35.6, 35.6, 35.6, 35.6)\n",
    "r_xy = (175, 175, 175, 175)\n",
    "\n",
    "selectedQubits = (0, 1, 2, 3)\n",
    "\n",
    "qubits = []\n",
    "for i in range(len(ri)):\n",
    "    q = qubit.Qubit('OCSQubit{:03}'.format(ri[i]))\n",
    "    q.C_g = Cg[i]*1e-15\n",
    "    q.C_q = Cq[i]*1e-15\n",
    "    q.C_resToGnd = Cgnd[i]*1e-15\n",
    "    q.cpw_length = (700-(ro[i]+15+20+1*ri[i]))*1e-6 # ro + d + 2*g + m*ri\n",
    "    qubits.append(q)"
   ]
  },
  {
   "cell_type": "markdown",
   "metadata": {},
   "source": [
    "## CPW ##\n",
    "We want to use the same cpw dimensions for resonator and feedline/purcell filter cpw's so the kinetic inductance correction is the same for everything."
   ]
  },
  {
   "cell_type": "code",
   "execution_count": 3,
   "metadata": {},
   "outputs": [
    {
     "name": "stdout",
     "output_type": "stream",
     "text": [
      "Cl = 0.000164468902665 pF/um\n",
      "Ll = 0.000432649750216 nH/um\n",
      "vph = 1.1854681054e8 m/s\n",
      "z0 = 51.2892479688 Ohms\n"
     ]
    }
   ],
   "source": [
    "cpw = cpwtools.CPW(material='al', w=10., s=7.)\n",
    "print cpw"
   ]
  },
  {
   "cell_type": "markdown",
   "metadata": {},
   "source": [
    "## $\\lambda/4$ readout resonators ##\n",
    "IMPAs from Google will be good in the 4-6GHz range.  We will aim for resonators near 6GHz, but have a spread from 5-6.5GHz on the mask.  They should be spread every 30MHz or so.\n",
    "We are changing to fixed resonator frequencies (non variable) for this mask.\n",
    "\n",
    "The frequency is brought down significantly by the capacitance through to ground through the qubit, as well as the self-capacitance of the coupling cap to ground.  These capacitances pull down the transmon frequency more, so we will set Q3 to have no extension, and set the other qubit frequencies around it."
   ]
  },
  {
   "cell_type": "code",
   "execution_count": 18,
   "metadata": {},
   "outputs": [
    {
     "name": "stdout",
     "output_type": "stream",
     "text": [
      "How much do the capacitors and change in res length of the qubits pull the resonance?\n",
      "                 length       f_l       C_r\n",
      "OCSQubit070:  4215.05um  6.000GHz  425.12fF\n",
      "OCSQubit070:  4215.05um  6.000GHz  425.12fF\n",
      "OCSQubit070:  4215.05um  6.000GHz  425.12fF\n",
      "OCSQubit070:  4215.05um  6.000GHz  425.12fF\n",
      "\n",
      "5.85314552223556 5.853145522235561 4.853145522235561\n",
      "5.956776459823592 5.956776459823592 4.956776459823592\n",
      "6.061663842886613 6.061663842886612 5.061663842886613\n",
      "6.167744234041408 6.167744234041409 5.167744234041408\n"
     ]
    }
   ],
   "source": [
    "quarter_curve = 2*pi*50/4\n",
    "coupling_length = 200   # this coupling length varies depending on desired Qc.\n",
    "tot_length = quarter_curve*(1+2+2+2+2) + 2*850 + (1335-700) + 200 + 350 + coupling_length \n",
    "\n",
    "def L4FromQubit(q):\n",
    "    L4 = cpwtools.QuarterLResonator(cpw, tot_length)\n",
    "    seriesCap = q.C_g*q.C_q/(q.C_g+q.C_q)\n",
    "    L4.addCapacitiveCoupling('g', seriesCap, Z0 = 0)\n",
    "    L4.addCapacitiveCoupling('c_coupler', q.C_resToGnd, Z0 = 0)\n",
    "    return L4\n",
    "    \n",
    "f0 = 6.0e9\n",
    "f_correction = 0.0e9 # correction for extra 700um length\n",
    "\n",
    "print('How much do the capacitors and change in res length of the qubits pull the resonance?')\n",
    "print('{:>11}   {:>9}  {:>8}  {:>8}'.format('', 'length', 'f_l', 'C_r'))\n",
    "L4 = L4FromQubit(qubits[1])\n",
    "l0 = L4.setLengthFromFreq(f0+f_correction) - qubits[1].cpw_length\n",
    "for q in qubits:\n",
    "    L4 = L4FromQubit(q)\n",
    "    L4.l = l0 + q.cpw_length\n",
    "    q.C_r = L4.C()\n",
    "    q.omega_r = L4.wl()\n",
    "    q.omega_q = 2*pi*(f0-1e9)\n",
    "    print('{:>11}:  {:>7.2f}um  {:>5.3f}GHz  {:>6.2f}fF'.format(\n",
    "        q.name, 1e6*l0, L4.fl()/1e9, 1e15*L4.C()))\n",
    "\n",
    "print\n",
    "base_length = quarter_curve*(1+2+2+2+2) + (1335-700) + 2*600 + (533-392) + coupling_length  \n",
    "res_lengths = [base_length + 2*l for l in (728, 684, 641, 599)]\n",
    "qubit_list = [qubits[i] for i in selectedQubits]\n",
    "Deltas = (1, 1,1,1)\n",
    "for i in range(len(res_lengths)):\n",
    "    L4 = L4FromQubit(qubit_list[i])\n",
    "    L4.l = 1e-6*res_lengths[i] + qubit_list[i].cpw_length\n",
    "    qubit_list[i].omega_r = L4.wl()\n",
    "    qubit_list[i].omega_q = 2*pi*(L4.fl()-Deltas[i]*1e9)\n",
    "    print L4.fl()/1e9, qubit_list[i].omega_r/2e9/pi, qubit_list[i].omega_q/2e9/pi"
   ]
  },
  {
   "cell_type": "code",
   "execution_count": 132,
   "metadata": {},
   "outputs": [],
   "source": [
    "# Add in measured frequencies if we know them\n",
    "# D5\n",
    "f_meas = (5.80, 5.89, 6.01, 6.14)\n",
    "f_q_meas = (4.58, 5.31, 4.17, 4.77)\n",
    "# E5\n",
    "#f_meas = (5.81, 5.91, 6.03, 6.13)\n",
    "#f_q_meas = (4.76, 6.26, 4.75, 4.83)\n",
    "for j,i in enumerate(selectedQubits):\n",
    "    qubits[i].omega_r = 2*pi*1e9*f_meas[j]\n",
    "    qubits[i].omega_q = 2*pi*1e9*f_q_meas[j]"
   ]
  },
  {
   "cell_type": "markdown",
   "metadata": {},
   "source": [
    "## Qubit parameters ##\n",
    "From Ted Thorbeck's notes:  \n",
    "$E_c = \\frac{e^2}{2C}$, $E_c/\\hbar=\\alpha=\\text{anharmonicity}$  \n",
    "$E_J = \\frac{I_o \\Phi_0}{2 \\pi} $  \n",
    "$\\omega_q = \\sqrt{8E_JE_c}/\\hbar $  \n",
    "$g = \\frac{1}{2} \\frac{C_g}{\\sqrt{(C_q+C_g)(C_r+C_g)}}\\sqrt{\\omega_r\\omega_q}$  \n",
    "  \n",
    "We want g in the range 25-200MHz for an ideal anharmonicity $\\alpha$=250MHz  "
   ]
  },
  {
   "cell_type": "code",
   "execution_count": 6,
   "metadata": {},
   "outputs": [],
   "source": [
    "qb = deepcopy(qubits[1])\n",
    "g = 2*pi*30e6     # qubit-resonator coupling in Hz"
   ]
  },
  {
   "cell_type": "code",
   "execution_count": 93,
   "metadata": {},
   "outputs": [
    {
     "name": "stdout",
     "output_type": "stream",
     "text": [
      "Range of C_q on the mask:\n",
      "C_q = 30fF: E_c = 645.67MHz\n",
      "C_q = 95fF: E_c = 203.90MHz\n",
      "\n",
      "Ideal:\n",
      "Transmon:          E_c = 250MHz: C_sigma = C_q + C_g = 77.48fF\n",
      "Charge Sensitive:  E_c = 385MHz: C_sigma = C_q + C_g = 47.24fF\n"
     ]
    }
   ],
   "source": [
    "print('Range of C_q on the mask:')\n",
    "print \"C_q = 30fF: E_c = {:.2f}MHz\".format( qb.E_c(30e6)/(2*pi*hbar)*1e15 )\n",
    "print \"C_q = 95fF: E_c = {:.2f}MHz\".format( qb.E_c(95e6)/(2*pi*hbar)*1e15 )\n",
    "print\n",
    "print('Ideal:')\n",
    "print \"Transmon:          E_c = 250MHz: C_sigma = C_q + C_g = {:.2f}fF\".format( e**2/2/250e6/(2*pi*hbar)*1e15 )\n",
    "print \"Charge Sensitive:  E_c = 385MHz: C_sigma = C_q + C_g = {:.2f}fF\".format( e**2/2/410e6/(2*pi*hbar)*1e15 )"
   ]
  },
  {
   "cell_type": "code",
   "execution_count": 19,
   "metadata": {},
   "outputs": [
    {
     "name": "stdout",
     "output_type": "stream",
     "text": [
      "                     C_q         E_c         E_j       alpha           g         C_g\n",
      "OCSQubit070:     49.50fF  -380.18MHz     9.12GHz  -504.31MHz    30.00MHz      1.66fF\n",
      "OCSQubit070:     49.50fF  -380.18MHz     9.48GHz  -496.70MHz    30.00MHz      1.63fF\n",
      "OCSQubit070:     49.50fF  -380.18MHz     9.85GHz  -489.94MHz    30.00MHz      1.60fF\n",
      "OCSQubit070:     49.50fF  -380.18MHz    10.24GHz  -483.93MHz    30.00MHz      1.57fF\n"
     ]
    }
   ],
   "source": [
    "# With caps chosen from the mask:\n",
    "print \"{:>11}   {:>10}  {:>10}  {:>10}  {:>10}  {:>10}  {:>10}\".format(\n",
    "    '', 'C_q', 'E_c', 'E_j', 'alpha', 'g', 'C_g')\n",
    "for q in qubits:\n",
    "    print \"{:>11}:  {:8.2f}fF  {:7.2f}MHz  {:7.2f}GHz  {:7.2f}MHz  {:7.2f}MHz  {:8.2f}fF\".format(\n",
    "        q.name, 1e15*q.C_q, -q.E_c()/(2*pi*hbar)/1e6, q.E_j()/2/pi/hbar/1e9, q.alpha(q.E_c(),q.E_j())/(2*pi)/1e6, g/2/pi/1e6, 1e15*q.cap_g(g))"
   ]
  },
  {
   "cell_type": "code",
   "execution_count": 20,
   "metadata": {},
   "outputs": [
    {
     "name": "stdout",
     "output_type": "stream",
     "text": [
      "                     C_g           g   Chi_0/2pi     Chi/2pi      Q_r       kappa    1/kappa         I_c     n_crit\n",
      "OCSQubit070:      1.45fF    26.21MHz     0.69MHz    -0.23MHz    12707     0.46MHz      346ns     18.36nA        364\n",
      "OCSQubit070:      1.45fF    26.72MHz     0.71MHz    -0.24MHz    12568     0.47MHz      336ns     19.09nA        350\n",
      "OCSQubit070:      1.45fF    27.24MHz     0.74MHz    -0.24MHz    12421     0.49MHz      326ns     19.84nA        337\n",
      "OCSQubit070:      1.45fF    27.76MHz     0.77MHz    -0.25MHz    12268     0.50MHz      317ns     20.61nA        324\n"
     ]
    }
   ],
   "source": [
    "# We choose the closest g capacitance from the mask\n",
    "print \"{:>11}   {:>10}  {:>10}  {:>10}  {:>10}  {:>7}  {:>10}  {:>9}  {:>10}  {:>9}\".format(\n",
    "    '', 'C_g', 'g', 'Chi_0/2pi', 'Chi/2pi', 'Q_r', 'kappa', '1/kappa', 'I_c', 'n_crit')\n",
    "for q in qubits:\n",
    "    print \"{:>11}:  {:>8.2f}fF  {:>7.2f}MHz  {:>7.2f}MHz  {:>7.2f}MHz  {:>7.0f}  {:>7.2f}MHz  {:>7.0f}ns  {:>8.2f}nA  {:>9.0f}\".format(\n",
    "        q.name, 1e15*q.cap_g(q.g()), q.g()/2/pi/1e6, 1e-6*q.Chi_0()/2/pi, 1e-6*q.Chi()/2/pi, q.Q_r(), \n",
    "        q.omega_r/q.Q_r()*1e-6/2/pi, q.Q_r()/q.omega_r*1e9, q.I_c()*1e9, ((q.omega_q-q.omega_r)/2/q.g())**2)"
   ]
  },
  {
   "cell_type": "code",
   "execution_count": 153,
   "metadata": {},
   "outputs": [
    {
     "name": "stdout",
     "output_type": "stream",
     "text": [
      "78.3921319879811\n",
      "79.30975842614275\n",
      "56.53499338995499\n",
      "38.983583967572265\n"
     ]
    }
   ],
   "source": [
    "for q in qubits:\n",
    "    print 4*(q.omega_r/18000)*q.Chi()**2 / ((q.omega_r/18000)**2 + 4*q.Chi()**2)  * ((q.omega_q-q.omega_r)/2/q.g())**2 /2/pi/1e6"
   ]
  },
  {
   "cell_type": "code",
   "execution_count": 147,
   "metadata": {},
   "outputs": [
    {
     "name": "stdout",
     "output_type": "stream",
     "text": [
      "86.18655887387752\n",
      "90.18286978587352\n",
      "88.27725292733717\n",
      "113.84616296583177\n",
      "88.85498043094915\n",
      "79.77868872210271\n",
      "89.92691671958816\n",
      "91.43716715105153\n"
     ]
    }
   ],
   "source": [
    "for q in qubits:\n",
    "    print 4*(q.omega_r/q.Q_r())*q.Chi()**2 / ((q.omega_r/q.Q_r())**2 + 4*q.Chi()**2)  * ((q.omega_q-q.omega_r)/2/q.g())**2 /2/pi/1e6"
   ]
  },
  {
   "cell_type": "code",
   "execution_count": 22,
   "metadata": {},
   "outputs": [
    {
     "name": "stdout",
     "output_type": "stream",
     "text": [
      "               I_c     R_N           width\n",
      "OCSQubit070:  18.36nA  16.25k   2 x 136.420nm\n",
      "OCSQubit070:  19.09nA  15.64k   1 x 283.619nm\n",
      "OCSQubit070:  19.84nA  15.05k   1 x 294.740nm\n",
      "OCSQubit070:  20.61nA  14.48k   2 x 153.102nm\n"
     ]
    }
   ],
   "source": [
    "delta = 380e-6; #2\\Delta/e in V\n",
    "Jc = 1e8*673e-9 # A/cm^2\n",
    "nJJs = (2,1,1,2)\n",
    "print( '{:>8}   {:>7}  {:>6}   {:>13}'.format('', 'I_c', 'R_N', 'width') )\n",
    "for i in selectedQubits:\n",
    "    q = qubits[i]\n",
    "    print(\"{}:  {:>5.2f}nA  {:>5.2f}k   {} x {:.3f}nm\".format(\n",
    "        q.name, q.I_c()*1e9, 1e-3*pi/4*delta/q.I_c(), nJJs[i], 1e9*q.I_c()/(1e4*Jc)/100e-9/nJJs[i] ))"
   ]
  },
  {
   "cell_type": "code",
   "execution_count": 23,
   "metadata": {},
   "outputs": [
    {
     "name": "stdout",
     "output_type": "stream",
     "text": [
      "                Ej/Ec  Charge dispersion\n",
      "OCSQubit070:   23.989            2.569MHz\n",
      "OCSQubit070:   24.937            2.069MHz\n",
      "OCSQubit070:   25.914            1.660MHz\n",
      "OCSQubit070:   26.923            1.326MHz\n"
     ]
    }
   ],
   "source": [
    "print( '{:>11}    {:>6}  {:>17}'.format('', 'Ej/Ec', 'Charge dispersion') )\n",
    "for q in qubits:\n",
    "    print \"{}:   {:>6.3f}  {:>15.3f}MHz\".format(q.name, q.E_j()/q.E_c(), q.charge_dispersion()/2/pi/hbar/1e6)"
   ]
  },
  {
   "cell_type": "code",
   "execution_count": 123,
   "metadata": {},
   "outputs": [
    {
     "name": "stdout",
     "output_type": "stream",
     "text": [
      "    C_q          g      C_g\n",
      "85.00fF   25.00MHz   1.65fF\n",
      "85.00fF   50.00MHz   3.34fF\n",
      "85.00fF  200.00MHz  14.34fF\n",
      "29.00fF   25.00MHz   0.97fF\n",
      "29.00fF   50.00MHz   1.98fF\n",
      "29.00fF  200.00MHz   8.80fF\n",
      " 0.00fF   25.00MHz   0.03fF\n",
      " 0.00fF   50.00MHz   0.13fF\n",
      " 0.00fF  200.00MHz   2.02fF\n"
     ]
    }
   ],
   "source": [
    "# What variation in C_g should be included on mask for the C_q variation we have?\n",
    "print( '{:>7}  {:>9}  {:>7}'.format('C_q', 'g', 'C_g') )\n",
    "for C_q_ in [85e-15, 29e-15, e**2/2/250e6]:\n",
    "    for g_ in [2*pi*25e6, 2*pi*50e6, 2*pi*200e6]:\n",
    "        qb.C_q = C_q_\n",
    "        print \"{:>5.2f}fF  {:>6.2f}MHz  {:>5.2f}fF\".format(\n",
    "            1e15*C_q_, g_/2/pi/1e6, 1e15*qb.cap_g(g_))"
   ]
  },
  {
   "cell_type": "markdown",
   "metadata": {},
   "source": [
    "## Feedline with and without crossovers ##"
   ]
  },
  {
   "cell_type": "code",
   "execution_count": 27,
   "metadata": {},
   "outputs": [
    {
     "name": "stdout",
     "output_type": "stream",
     "text": [
      "Cl = 0.000164468902665 pF/um\n",
      "Ll = 0.000432928941855 nH/um\n",
      "vph = 1.18508579536e8 m/s\n",
      "z0 = 51.3057939391 Ohms\n",
      "Cl = 0.000190367402031 pF/um\n",
      "Ll = 0.000432928941855 nH/um\n",
      "vph = 1.10152763842e8 m/s\n",
      "z0 = 47.6883194923 Ohms\n"
     ]
    }
   ],
   "source": [
    "cpw.setKineticInductanceCorrection(False)\n",
    "print cpw\n",
    "cpwx = cpwtools.CPWWithBridges(material='al', w=1e6*cpw.w, s=1e6*cpw.s, bridgeSpacing = 250, bridgeWidth = 3, t_oxide=0.16)\n",
    "cpwx.setKineticInductanceCorrection(False)\n",
    "print cpwx"
   ]
  },
  {
   "cell_type": "markdown",
   "metadata": {},
   "source": [
    "## Inductive Coupling ##\n",
    "From [1], we have the dephasing of a qubit:  \n",
    "$\\Gamma_\\phi = \\eta\\frac{4\\chi^2}{\\kappa}\\bar{n}$, where $\\eta=\\frac{\\kappa^2}{\\kappa^2+4\\chi^2}$, $\\bar{n}=\\left(\\frac{\\Delta}{2g}\\right)^2$  \n",
    "$\\Gamma_\\phi = \\frac{4\\chi^2\\kappa}{\\kappa^2+4\\chi^2}\\left(\\frac{\\Delta}{2g}\\right)^2$  \n",
    "To maximize the efficiency of readout, we want to maximize the rate of information leaving the system (into the readout chain), or equivilently, maximize dephasing.  \n",
    "$\\partial_\\kappa\\Gamma_\\phi = 0 = -\\frac{4\\chi^2(\\kappa^2-4\\chi^2)}{(\\kappa^2+4\\chi^2)^2}$ when $2\\chi=\\kappa$.  \n",
    "$2\\chi = \\kappa_r = \\omega_r/Q_r$  \n",
    "$ Q_{r,c} = \\frac{8Z_0^2}{\\pi(\\omega M)^2}$  [2]  \n",
    "We want a $Q_c$ of 3k-30k  \n",
    "  \n",
    "[1] Yan et al. The flux qubit revisited to enhance coherence and reproducibility. Nature Communications, 7, 1–9. http://doi.org/10.1038/ncomms12964  \n",
    "[2] Matt Beck's Thesis, p.39"
   ]
  },
  {
   "cell_type": "raw",
   "metadata": {},
   "source": [
    "__________          ________           _______          ________          _________  \n",
    "     g    |<- s1 ->|<--w1-->|<--s1--> |<--d-->|<--s2-->|<--w2-->|<--s2-->|   g"
   ]
  },
  {
   "cell_type": "code",
   "execution_count": 90,
   "metadata": {},
   "outputs": [
    {
     "name": "stdout",
     "output_type": "stream",
     "text": [
      "The inductance per unit length is 5.24e-08 H/m\n"
     ]
    }
   ],
   "source": [
    "d = 5\n",
    "MperL = inductiveCoupling.inductiveCoupling.CalcMutual(cpw.w*1e6, cpw.w*1e6, cpw.s*1e6, cpw.s*1e6, d, 10*cpw.w*1e6)[0]"
   ]
  },
  {
   "cell_type": "code",
   "execution_count": 24,
   "metadata": {},
   "outputs": [],
   "source": [
    "MperL = 9e-8 # experimentally measured"
   ]
  },
  {
   "cell_type": "code",
   "execution_count": 25,
   "metadata": {},
   "outputs": [
    {
     "name": "stdout",
     "output_type": "stream",
     "text": [
      "                    M   coupling length\n",
      "OCSQubit070:  19.74pH          208.25um\n",
      "OCSQubit070:  19.51pH          205.62um\n",
      "OCSQubit070:  19.28pH          203.13um\n",
      "OCSQubit070:  19.07pH          200.76um\n"
     ]
    }
   ],
   "source": [
    "print( '{:>11}   {:>7}   {:>15}'.format('', 'M', 'coupling length') )\n",
    "for q in qubits:\n",
    "    M = 1/(np.sqrt(q.Q_r()*pi/8/cpw.z0()**2)*q.omega_r)\n",
    "    print \"{:>11}:  {:>5.2f}pH   {:>13.2f}um\".format(q.name, M*1e12, (M-1e-12)/MperL*1e6)"
   ]
  },
  {
   "cell_type": "code",
   "execution_count": 155,
   "metadata": {},
   "outputs": [
    {
     "name": "stdout",
     "output_type": "stream",
     "text": [
      "                    M   coupling length\n",
      "OCSQubit108:  16.44pH          171.52um\n",
      "OCSQubit108:  16.15pH          168.29um\n",
      "OCSQubit108:  15.86pH          165.13um\n",
      "OCSQubit108:  15.58pH          162.05um\n"
     ]
    }
   ],
   "source": [
    "print( '{:>11}   {:>7}   {:>15}'.format('', 'M', 'coupling length') )\n",
    "for q in qubits:\n",
    "    M = 1/(np.sqrt(18000*pi/8/cpw.z0()**2)*q.omega_r)\n",
    "    print \"{:>11}:  {:>5.2f}pH   {:>13.2f}um\".format(q.name, M*1e12, (M-1e-12)/MperL*1e6)"
   ]
  },
  {
   "cell_type": "code",
   "execution_count": 107,
   "metadata": {},
   "outputs": [
    {
     "name": "stdout",
     "output_type": "stream",
     "text": [
      "  Q_c       l_c\n",
      " 3000  753.92um\n",
      " 6000  533.10um\n",
      " 9000  435.27um\n",
      "15000  337.16um\n",
      "21000  284.95um\n",
      "27000  251.31um\n",
      "33000  227.31um\n",
      "99000  131.24um\n"
     ]
    }
   ],
   "source": [
    "print( '{:>5}  {:>8}'.format('Q_c', 'l_c') )\n",
    "for q in [3000,6000,9000,15000,21000,27000,33000,99000]:\n",
    "    print \"{:>5}  {:>6.2f}um\".format(q,1/(np.sqrt(q*pi/8/cpw.z0()**2)*qubits[2].omega_r)/MperL*1e6)"
   ]
  },
  {
   "cell_type": "markdown",
   "metadata": {},
   "source": [
    "## Purcell Filter ##\n",
    "Do we even need a purcell filter? [3]  \n",
    "Without purcell filter: $\\kappa_r T_1 \\le \\left(\\frac{\\Delta}{g}\\right)^2$  \n",
    "With purcell filter: $\\kappa_r T_1 \\le \\left(\\frac{\\Delta}{g}\\right)^2 \\left(\\frac{\\omega_r}{\\omega_q}\\right) \\left(\\frac{2\\Delta}{\\omega_r/Q_{pf}}\\right)^2$  \n",
    "$\\kappa_r = \\omega_r/Q_r$  \n",
    "\n",
    "With the readout resonators spaced ~30MHz appart, we need a bandwidth of at least 4*30MHz=120MHz.  \n",
    "We have a range of readout resonators from 5-6GHz.  \n",
    "  \n",
    "[3] Jeffrey et al. Fast accurate state measurement with superconducting qubits. Physical Review Letters, 112(19), 1–5. http://doi.org/10.1103/PhysRevLett.112.190504"
   ]
  },
  {
   "cell_type": "code",
   "execution_count": 87,
   "metadata": {},
   "outputs": [
    {
     "name": "stdout",
     "output_type": "stream",
     "text": [
      "f_max = 6.070GHz  Q_in = 222.95  Q_out = 23.70\n",
      "f_min = 5.022GHz  Q_in = 333.62  Q_out = 34.46\n",
      "\n",
      "The measured purcell filter (no crossovers) seems to be 150-200MHz below expected.  This has been accounted for below.\n",
      "f = 6.24GHz  l = 8572.002um  offset = -66.409um  Q_in = 210.01  Q_out = 22.43\n",
      "V_out/V_in = 3.059694068527067\n",
      "9.93% power lost through input\n",
      "92.95% power lost through output\n",
      "0.00% power lost internally\n",
      "\n",
      "The purcell filter frequency goes up by 310MHz when crossovers are added:\n",
      "f = 5.87GHz  l = 8572.002um  Q_in = 235.91  Q_out = 27.12\n"
     ]
    }
   ],
   "source": [
    "l_curve = 2*pi*50/4\n",
    "tot_length = l_curve*(1+2+2+2+1)*2 + 4*750 + 2569 + 4*450 + 2*106\n",
    "\n",
    "purcell = cpwtools.HalfLResonator(cpw,tot_length)\n",
    "purcell.addCapacitiveCoupling('in', 40e-15)\n",
    "purcell.addCapacitiveCoupling('out', 130e-15)\n",
    "\n",
    "print( \"f_max = {:.3f}GHz  Q_in = {:.2f}  Q_out = {:.2f}\".format( 1e-9*purcell.fl(), purcell.Qc('in'), purcell.Qc('out') ) )\n",
    "purcell.l = (tot_length + 503*4)*1e-6\n",
    "print( \"f_min = {:.3f}GHz  Q_in = {:.2f}  Q_out = {:.2f}\".format( 1e-9*purcell.fl(), purcell.Qc('in'), purcell.Qc('out') ) )\n",
    "print\n",
    "print('The measured purcell filter (no crossovers) seems to be 150-200MHz below expected.  This has been accounted for below.')\n",
    "f0 = (qubits[1].omega_r + qubits[2].omega_r)/2/2/pi\n",
    "purcell.setLengthFromFreq(f0 + 175e6)   # The measured purcell filter (no crossovers) seems to be 150-200MHz below expected.\n",
    "print \"f = {:.2f}GHz  l = {:.3f}um  offset = {:.3f}um  Q_in = {:.2f}  Q_out = {:.2f}\".format( 1e-9*purcell.fl(), purcell.l*1e6, (purcell.l*1e6-tot_length)/4, purcell.Qc('in'), purcell.Qc('out') )\n",
    "print \"V_out/V_in =\", (purcell.Qc('in')/purcell.Qc('out'))**0.5\n",
    "print \"{:.2f}% power lost through input\".format( 100*purcell.Ql()/purcell.Qc('in') )\n",
    "print \"{:.2f}% power lost through output\".format( 100*purcell.Ql()/purcell.Qc('out') )\n",
    "print \"{:.2f}% power lost internally\".format( 100*purcell.Ql()/purcell.Qint() )\n",
    "print\n",
    "print \"The purcell filter frequency goes up by 310MHz when crossovers are added:\"\n",
    "purcellx = deepcopy(purcell)\n",
    "purcellx.cpw = cpwx\n",
    "print \"f = {:.2f}GHz  l = {:.3f}um  Q_in = {:.2f}  Q_out = {:.2f}\".format( 1e-9*purcellx.fl(), purcellx.l*1e6, purcellx.Qc('in'), purcellx.Qc('out') )"
   ]
  },
  {
   "cell_type": "code",
   "execution_count": 88,
   "metadata": {},
   "outputs": [
    {
     "name": "stdout",
     "output_type": "stream",
     "text": [
      "Purcell Filter FWHM = 290.98MHz\n",
      "Purcell Filter Q_l = 20.85\n",
      "\n",
      "T1 Limits:\n",
      "              no purcell  yes purcell\n",
      "OCSQubit108:    548.47us   32906.85us\n",
      "OCSQubit108:   1279.07us  110664.31us\n",
      "OCSQubit108:   6196.07us  1150702.29us\n",
      "OCSQubit108:  14058.96us  3710715.55us\n"
     ]
    }
   ],
   "source": [
    "print \"Purcell Filter FWHM = {:.2f}MHz\".format(2*pi*f0/purcell.Ql()/2/pi/1e6)\n",
    "print \"Purcell Filter Q_l = {:.2f}\".format(purcell.Ql())\n",
    "print\n",
    "print('T1 Limits:')\n",
    "print('{:>11}   {:>10}  {:>11}'.format('', 'no purcell', 'yes purcell'))\n",
    "for q in qubits:\n",
    "    kappa_r = q.omega_r/q.Q_r()\n",
    "    Delta = q.omega_q - q.omega_r\n",
    "    #print \"{}: T1 limit (no purcell) = {:.2f}us  T1 limit (purcell) = {:.2f}us\".format(\n",
    "    print \"{:>11}:  {:>8.2f}us  {:>9.2f}us\".format(\n",
    "        q.name, (Delta/q.g())**2/kappa_r * 1e6, (Delta/q.g())**2 * (q.omega_r/q.omega_q) * (2*Delta/q.omega_r*purcell.Ql())**2/kappa_r * 1e6 )"
   ]
  },
  {
   "cell_type": "markdown",
   "metadata": {},
   "source": [
    "## Loss from XY line ##\n",
    "From Thorbeck's notes, we have\n",
    "$R_p = R_s(1+Q_s^2)$ and $C_p = C_s\\left(\\frac{Q_s^2}{1+Q_s^2}\\right)$\n",
    "where $Q_s = \\frac{1}{\\omega R_s C_s}$\n",
    "and the \"s\" and \"p\" subscript refer to just the coupling capacitor and Z0 of the line in a series or parallel configuration.  Combining this with the normal LC of the qubit, we can find the loss"
   ]
  },
  {
   "cell_type": "code",
   "execution_count": 32,
   "metadata": {},
   "outputs": [
    {
     "name": "stdout",
     "output_type": "stream",
     "text": [
      "f: 5.121GHz --> 5.116GHz\n",
      "Q = 2918252.47\n",
      "1/kappa = 90.79us\n"
     ]
    }
   ],
   "source": [
    "C_q = qubits[2].C_q\n",
    "L_q = 1/(qubits[2].omega_q**2 * C_q)\n",
    "R_s = 50\n",
    "C_s = 0.1e-15\n",
    "Q_s = 1/(qubits[2].omega_q * R_s * C_s)\n",
    "R_p = R_s*(1 + Q_s**2)\n",
    "C_p = C_s * Q_s**2/(1 + Q_s**2)\n",
    "omega = 1/np.sqrt((C_q+C_p)*L_q)\n",
    "Q_xy = omega*R_p*(C_q+C_p)\n",
    "print(\"f: {:.3f}GHz --> {:.3f}GHz\".format( 1e-9/np.sqrt(C_q*L_q)/2/pi, 1e-9*omega/2/pi))\n",
    "print(\"Q = {:.2f}\".format(Q_xy))\n",
    "print(\"1/kappa = {:.2f}us\".format(1e6*Q_xy/omega))"
   ]
  },
  {
   "cell_type": "code",
   "execution_count": null,
   "metadata": {},
   "outputs": [],
   "source": []
  },
  {
   "cell_type": "code",
   "execution_count": null,
   "metadata": {},
   "outputs": [],
   "source": []
  }
 ],
 "metadata": {
  "kernelspec": {
   "display_name": "py-mcdermott",
   "language": "python",
   "name": "py-mcdermott"
  },
  "language_info": {
   "codemirror_mode": {
    "name": "ipython",
    "version": 2
   },
   "file_extension": ".py",
   "mimetype": "text/x-python",
   "name": "python",
   "nbconvert_exporter": "python",
   "pygments_lexer": "ipython2",
   "version": "2.7.15"
  }
 },
 "nbformat": 4,
 "nbformat_minor": 2
}
