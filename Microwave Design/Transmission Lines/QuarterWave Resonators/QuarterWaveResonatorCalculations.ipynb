{
 "cells": [
  {
   "cell_type": "markdown",
   "metadata": {},
   "source": [
    "# Motivation\n",
    "\n",
    "We need to have a very good method of selecting resonator lengths such that we minimize the time it takes to fabricate suitable frequency-targeted qubit devices for readout with an amplifier. We must also ensure that these devices are spaced in frequency enough such that individual readout resonators are easily resolved in frequency and phase space for a given coupling rate $\\kappa$. \n",
    "\n",
    "# Method\n",
    "## Capacitance and Inductance of Bare CPW (no crossovers)\n",
    "\n",
    "Using the geometry alone, one is able to calculate the phase velocity of the CPW by finding the the capacitance per unit length. (See [Goppel](http://arxiv.org/pdf/0807.4094v1.pdf) and [Gupta](https://www.scribd.com/doc/112426565/Gupta-Et-Al-1996-Microstrip-Lines-and-Slotlines-2nd-Ed) (p. 382) for details.) The calculation to be done are\n",
    "\n",
    "The total line capacitance per unit length (Gupta 7.8c) becomes\n",
    "\n",
    "\\begin{align}\n",
    "C_l &= 2\\epsilon_0\\left(\\epsilon_r+1\\right)\\frac{K(k_0)}{K(k'_0)}\n",
    "\\end{align}\n",
    "\n",
    "where $K(m)$ is the complete elliptic integral of the first kind and $k_0$ is a geometry dependent terms\n",
    "\n",
    "\\begin{align}\n",
    "k_0 &= \\frac{w}{w+2s},\\\\\n",
    "k'_0 &= \\sqrt{1-k_0^2}.\n",
    "\\end{align}\n",
    "\n",
    "Using only the geometry and materials information, we are able to calculate the characteristic impedance of the CPW along with the phase velocity and relative permittivity of the CPW.\n",
    "\n",
    "## Lumped Element Approximation (LEA)\n",
    "\n",
    "We know that the resonance frequency of the cavity will be pulled by adding in extra capacitances (grounding straps, the coupling capacitance $C_{\\kappa}$, the qubit pocket, etc.) and inductances (say from coupling in inductively). The frequency that we specify in the function `calcQuarterWavelength()` below is the frequency we desire *after* taking these capacitances into account.\n",
    "\n",
    "For now just the basics: use the desired frequency $\\omega'$ and calculated $Z_0$ of the CPW resonator to calculate an effective $L_{LEA}$,$C_{LEA}$ (Pozar 6.34),  resonant circuit. This lumped element circuit will ring at the target frequency $\\omega'$ following\n",
    "\n",
    "\\begin{align}\n",
    "\\omega' &= \\frac{1}{\\sqrt{L_{tot}C_{tot}}} \\mbox{ where}\\\\\n",
    "C_{tot} &= C_{LEA} + C_{parasitic} \\mbox{ and}\\\\\n",
    "L_{tot} &= L_{LEA} + L_{parasitic}.\n",
    "\\end{align}\n",
    "\n",
    "The desired action now is to strip the parasitics out and calculate $\\omega_0$, the original frequency of the resonator before it gets pulled down. From Pozar,\n",
    "\n",
    "\n",
    "\\begin{align}\n",
    "C_{LEA} &= \\frac{\\pi}{4\\omega_0Z_0},\\\\\n",
    "L_{LEA} &= \\frac{1}{\\omega_0^2C_{LEA}},\\\\\n",
    "\\end{align}\n",
    "\n",
    "which can be used to find\n",
    "\n",
    "\\begin{align}\n",
    "\\omega_0 &= \\left(\\frac{1}{2}\\left(-\\frac{1}{\\delta\\omega} + \\sqrt{-4C_{parasitic}L_{parasitic}+\\frac{1}{(\\delta\\omega)^2} + \\frac{4}{\\omega'^2}}\\right )\\right)^{-1}\n",
    "\\end{align}\n",
    "\n",
    "where\n",
    "\n",
    "\\begin{align}\n",
    "\\frac{1}{\\delta\\omega}&=\\frac{L_{parasitic}\\pi}{4Z_0}+\\frac{4C_{parasitic}Z_0}{\\pi}.\n",
    "\\end{align}\n",
    "\n",
    "(n.b.: in the $\\pm$ of solving the quadratic, the $-$ is non-physical, so the function below only uses $+$.) After we have the non-pulled frequency of the resonator, we can find the half-wavelength by using the already calculated phase velocity set by the geometry as\n",
    "\n",
    "\\begin{align}\n",
    "\\frac{\\lambda}{4} &= \\frac{\\pi v_{ph}}{2\\omega_0}.\n",
    "\\end{align}\n"
   ]
  },
  {
   "cell_type": "markdown",
   "metadata": {},
   "source": [
    "# Coupling Rates\n",
    "\n",
    "We know that the coupling to the shorted end of the resonator will result in an additional inductance to the circuit above. The coupling quality will be \n",
    "\n",
    "\\begin{align}\n",
    "Q_c &= \\frac{2 Z_0 L_{LEA}}{\\omega_0 M^2},\n",
    "\\end{align}\n",
    "\n",
    "where $M$ is the mutual inductance between the resonator and the common feedline. This makes the coupling rate of the resonator to the cavity\n",
    "\n",
    "\\begin{align}\n",
    "\\kappa &= \\frac{\\left(\\omega_0 M\\right)^2}{2Z_0L_{LEA}}.\n",
    "\\end{align}"
   ]
  },
  {
   "cell_type": "markdown",
   "metadata": {},
   "source": [
    "## Some non-pythonic code"
   ]
  },
  {
   "cell_type": "code",
   "execution_count": 1,
   "metadata": {
    "collapsed": false,
    "scrolled": true
   },
   "outputs": [],
   "source": [
    "import numpy as np\n",
    "import scipy as sp\n",
    "from scipy import special\n",
    "import re\n",
    "import os\n",
    "\n",
    "from collections import namedtuple\n",
    "from scipy.constants import speed_of_light,mu_0,epsilon_0,pi\n",
    "\n",
    "from QuarterWave import *\n",
    "\n",
    "### Resonator Parameters ###\n",
    "# Center trace width (um)\n",
    "CPW_w = 10\n",
    "\n",
    "# Gap from center trace to GND (symmetric on both sides) (um)\n",
    "CPW_s = 6\n",
    "\n",
    "# Target resonator frequency (Hz)\n",
    "LEA_f0 = 6.6 * 10**9 \n",
    "\n",
    "# Target coupling quality factor\n",
    "RES_Qc = 1e5\n",
    "\n",
    "# Substrate relative permittivity\n",
    "SUB_er = 11.7 # intrinsic silicon\n",
    "\n",
    "### Parasitics ###\n",
    "\n",
    "# Qubit pocket to ground is 10 fF in series with 60 fF\n",
    "LEA_Cqb = 10.6*62/(10.6+62) * 1e-15 # (F)\n",
    "\n",
    "# Coupling capacitance to SFQ driver at the end of the resonator\n",
    "LEA_Csfq = 12e-15 # (F)\n",
    "\n",
    "# Total parasitic capacitance\n",
    "Cparasitic = LEA_Cqb + LEA_Csfq"
   ]
  },
  {
   "cell_type": "code",
   "execution_count": 8,
   "metadata": {
    "collapsed": false
   },
   "outputs": [
    {
     "name": "stdout",
     "output_type": "stream",
     "text": [
      "---- Resonator 0 ----\n",
      "\n",
      "Coupling Q:      75000\n",
      "Target Center F: 6.55 GHz\n",
      "Coupling Mutual: 7.05 pH\n",
      "Unpulled F:      6.644 GHz\n",
      "lambda/4 length: 4476.47 um\n",
      "Required ext. l: 346.87 um \n",
      "\n",
      "\n",
      "---- Resonator 1 ----\n",
      "\n",
      "Coupling Q:      10000\n",
      "Target Center F: 6.65 GHz\n",
      "Coupling Mutual: 18.71 pH\n",
      "Unpulled F:      6.885 GHz\n",
      "lambda/4 length: 4320.14 um\n",
      "Required ext. l: 146.53 um \n",
      "\n",
      "\n"
     ]
    }
   ],
   "source": [
    "RES_Qc = [75000, 10000]\n",
    "LEA_f0 = [6.55e9, 6.65e9]\n",
    "LEA_Csfq = [0, 12e-15]\n",
    "static_lengths = [3029+60, 3609+125]\n",
    "for n in range(len(RES_Qc)):\n",
    "    Cparasitic = LEA_Cqb + LEA_Csfq[n]\n",
    "    RES_params = calcQuarterWavelength(CPW_w,CPW_s,LEA_f0[n],SUB_er,Cparasitic,0)\n",
    "    LEA_mutual = calcMutual(RES_params.z0, RES_params.L, 2*pi*RES_params.f0, RES_Qc[n])\n",
    "    resonator = calcQuarterWavelength(CPW_w,CPW_s,LEA_f0[n],SUB_er,Cparasitic,LEA_mutual)\n",
    "    \n",
    "    print '---- Resonator {0} ----\\n'.format(n)\n",
    "    print 'Coupling Q:      {0}'.format(RES_Qc[n])\n",
    "    print 'Target Center F: {0} GHz'.format(LEA_f0[n]/float(1e9))\n",
    "    print 'Coupling Mutual: {:.2f} pH'.format(LEA_mutual*10**12)\n",
    "    print 'Unpulled F:      {:.3f} GHz'.format(resonator.f0/float(1e9))\n",
    "    print 'lambda/4 length: {:.2f} um'.format(resonator.quarterlength*10**6)\n",
    "    print 'Required ext. l: {:.2f} um \\n\\n'.format((resonator.quarterlength*10**6 - static_lengths[n])/float(4))"
   ]
  },
  {
   "cell_type": "code",
   "execution_count": null,
   "metadata": {
    "collapsed": true
   },
   "outputs": [],
   "source": []
  }
 ],
 "metadata": {
  "kernelspec": {
   "display_name": "Python 2",
   "language": "python",
   "name": "python2"
  },
  "language_info": {
   "codemirror_mode": {
    "name": "ipython",
    "version": 2
   },
   "file_extension": ".py",
   "mimetype": "text/x-python",
   "name": "python",
   "nbconvert_exporter": "python",
   "pygments_lexer": "ipython2",
   "version": "2.7.9"
  }
 },
 "nbformat": 4,
 "nbformat_minor": 0
}
